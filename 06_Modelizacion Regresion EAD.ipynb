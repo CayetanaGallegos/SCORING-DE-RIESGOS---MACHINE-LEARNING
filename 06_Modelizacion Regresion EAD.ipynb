{
 "cells": [
  {
   "cell_type": "markdown",
   "id": "d31dea65",
   "metadata": {},
   "source": [
    "# MODELIZACIÓN REGRESION EXPOSURE AT DEFAULT"
   ]
  },
  {
   "cell_type": "markdown",
   "id": "swiss-fault",
   "metadata": {},
   "source": [
    "## IMPORTAR PAQUETES"
   ]
  },
  {
   "cell_type": "code",
   "execution_count": 1,
   "id": "adjacent-toddler",
   "metadata": {},
   "outputs": [],
   "source": [
    "import numpy as np\n",
    "import pandas as pd\n",
    "import matplotlib.pyplot as plt\n",
    "%matplotlib inline\n",
    "\n",
    "from sklearn.model_selection import train_test_split\n",
    "\n",
    "from sklearn.linear_model import Ridge\n",
    "from sklearn.linear_model import Lasso\n",
    "from sklearn.ensemble import HistGradientBoostingRegressor\n",
    "\n",
    "from sklearn.pipeline import Pipeline\n",
    "\n",
    "from sklearn.model_selection import GridSearchCV\n",
    "\n",
    "from sklearn.metrics import mean_absolute_error\n",
    "\n",
    "#Autocompletar rápido\n",
    "%config IPCompleter.greedy=True\n",
    "\n",
    "#Desactivar la notación científica\n",
    "pd.options.display.float_format = '{:.2f}'.format\n",
    "\n",
    "#Desactivar los warnings\n",
    "import warnings\n",
    "warnings.filterwarnings(\"ignore\")"
   ]
  },
  {
   "cell_type": "markdown",
   "id": "graduate-compensation",
   "metadata": {},
   "source": [
    "## IMPORTAR LOS DATOS"
   ]
  },
  {
   "cell_type": "markdown",
   "id": "3a5b94ef",
   "metadata": {},
   "source": [
    "Sustituir la ruta del proyecto."
   ]
  },
  {
   "cell_type": "code",
   "execution_count": 2,
   "id": "f9d2de58",
   "metadata": {},
   "outputs": [],
   "source": [
    "ruta_proyecto = 'C:/Users/Ana/Desktop/DATA_SCIENCE_FOR_BUSINESS/PYTHON_DATA_SCIENCE_MASTERY/EstructuraDirectorio/03_MACHINE_LEARNING/08_CASOS_/03_SCORING RIESGOS'"
   ]
  },
  {
   "cell_type": "markdown",
   "id": "c3363765",
   "metadata": {},
   "source": [
    "Nombres de los ficheros de datos."
   ]
  },
  {
   "cell_type": "code",
   "execution_count": 3,
   "id": "a9e2e04a",
   "metadata": {},
   "outputs": [],
   "source": [
    "nombre = 'df_tablon_ead.pickle'"
   ]
  },
  {
   "cell_type": "markdown",
   "id": "b9825018",
   "metadata": {},
   "source": [
    "Cargar los datos."
   ]
  },
  {
   "cell_type": "code",
   "execution_count": 4,
   "id": "957982c5",
   "metadata": {},
   "outputs": [],
   "source": [
    "df = pd.read_pickle(ruta_proyecto + '/02_Datos/03_Trabajo/' + nombre)"
   ]
  },
  {
   "cell_type": "markdown",
   "id": "0c21b90c",
   "metadata": {},
   "source": [
    "## CREAR X e Y"
   ]
  },
  {
   "cell_type": "code",
   "execution_count": 5,
   "id": "e6a04355",
   "metadata": {},
   "outputs": [],
   "source": [
    "x = df.drop(columns='target_ead')\n",
    "y = df.target_ead"
   ]
  },
  {
   "cell_type": "markdown",
   "id": "0ac6abac",
   "metadata": {},
   "source": [
    "## MODELIZAR"
   ]
  },
  {
   "cell_type": "markdown",
   "id": "930f685f",
   "metadata": {},
   "source": [
    "### Reservar el dataset de validacion"
   ]
  },
  {
   "cell_type": "code",
   "execution_count": 6,
   "id": "84b6fd41",
   "metadata": {},
   "outputs": [],
   "source": [
    "train_x,val_x,train_y,val_y = train_test_split(x,y,test_size=0.3)"
   ]
  },
  {
   "cell_type": "markdown",
   "id": "53bd4ad6",
   "metadata": {},
   "source": [
    "### Crear el pipe y el diccionario de algorimos, parámetros y valores a testar"
   ]
  },
  {
   "cell_type": "code",
   "execution_count": 7,
   "id": "3efa5c98",
   "metadata": {},
   "outputs": [],
   "source": [
    "pipe = Pipeline([('algoritmo',Ridge())])\n",
    "\n",
    "grid = [      \n",
    "        {'algoritmo': [Ridge()],\n",
    "         'algoritmo__alpha': list(np.arange(0.1,1.1,0.1))},\n",
    "        \n",
    "        {'algoritmo': [Lasso()],\n",
    "         'algoritmo__alpha': list(np.arange(0.1,1.1,0.1))},\n",
    "    \n",
    "    #lightGBM\n",
    "        {'algoritmo': [HistGradientBoostingRegressor(min_samples_leaf = 100, scoring = 'neg_mean_absolute_percentage_error')],\n",
    "         'algoritmo__learning_rate': [0.01,0.025,0.05,0.1],\n",
    "         'algoritmo__max_iter': [50,100,200],\n",
    "         'algoritmo__max_depth': [5,10,20],\n",
    "         'algoritmo__l2_regularization': [0,0.25,0.5,0.75,1]}\n",
    "       ]"
   ]
  },
  {
   "cell_type": "markdown",
   "id": "1f836ca9",
   "metadata": {},
   "source": [
    "### Optimizar los hiper parámetros"
   ]
  },
  {
   "cell_type": "markdown",
   "id": "3d73daa9",
   "metadata": {},
   "source": [
    "####  Con grid search"
   ]
  },
  {
   "cell_type": "code",
   "execution_count": 8,
   "id": "4be08386",
   "metadata": {
    "scrolled": true
   },
   "outputs": [],
   "source": [
    "grid_search = GridSearchCV(estimator= pipe, \n",
    "                           param_grid = grid, \n",
    "                           cv = 3, \n",
    "                           scoring = 'neg_mean_absolute_error',\n",
    "                           verbose = 0,\n",
    "                           n_jobs = -1)\n",
    "\n",
    "modelo = grid_search.fit(train_x,train_y)"
   ]
  },
  {
   "cell_type": "code",
   "execution_count": 9,
   "id": "5e28f937",
   "metadata": {},
   "outputs": [
    {
     "data": {
      "text/html": [
       "<div>\n",
       "<style scoped>\n",
       "    .dataframe tbody tr th:only-of-type {\n",
       "        vertical-align: middle;\n",
       "    }\n",
       "\n",
       "    .dataframe tbody tr th {\n",
       "        vertical-align: top;\n",
       "    }\n",
       "\n",
       "    .dataframe thead th {\n",
       "        text-align: right;\n",
       "    }\n",
       "</style>\n",
       "<table border=\"1\" class=\"dataframe\">\n",
       "  <thead>\n",
       "    <tr style=\"text-align: right;\">\n",
       "      <th></th>\n",
       "      <th>mean_fit_time</th>\n",
       "      <th>std_fit_time</th>\n",
       "      <th>mean_score_time</th>\n",
       "      <th>std_score_time</th>\n",
       "      <th>param_algoritmo</th>\n",
       "      <th>param_algoritmo__alpha</th>\n",
       "      <th>param_algoritmo__l2_regularization</th>\n",
       "      <th>param_algoritmo__learning_rate</th>\n",
       "      <th>param_algoritmo__max_depth</th>\n",
       "      <th>param_algoritmo__max_iter</th>\n",
       "      <th>params</th>\n",
       "      <th>split0_test_score</th>\n",
       "      <th>split1_test_score</th>\n",
       "      <th>split2_test_score</th>\n",
       "      <th>mean_test_score</th>\n",
       "      <th>std_test_score</th>\n",
       "      <th>rank_test_score</th>\n",
       "    </tr>\n",
       "  </thead>\n",
       "  <tbody>\n",
       "    <tr>\n",
       "      <th>0</th>\n",
       "      <td>59.70</td>\n",
       "      <td>0.49</td>\n",
       "      <td>1.42</td>\n",
       "      <td>0.07</td>\n",
       "      <td>HistGradientBoostingRegressor(l2_regularizatio...</td>\n",
       "      <td>NaN</td>\n",
       "      <td>1</td>\n",
       "      <td>0.10</td>\n",
       "      <td>20</td>\n",
       "      <td>200</td>\n",
       "      <td>{'algoritmo': HistGradientBoostingRegressor(l2...</td>\n",
       "      <td>-0.23</td>\n",
       "      <td>-0.24</td>\n",
       "      <td>-0.23</td>\n",
       "      <td>-0.23</td>\n",
       "      <td>0.00</td>\n",
       "      <td>1</td>\n",
       "    </tr>\n",
       "    <tr>\n",
       "      <th>1</th>\n",
       "      <td>55.71</td>\n",
       "      <td>0.91</td>\n",
       "      <td>1.44</td>\n",
       "      <td>0.03</td>\n",
       "      <td>HistGradientBoostingRegressor(l2_regularizatio...</td>\n",
       "      <td>NaN</td>\n",
       "      <td>0.25</td>\n",
       "      <td>0.10</td>\n",
       "      <td>10</td>\n",
       "      <td>200</td>\n",
       "      <td>{'algoritmo': HistGradientBoostingRegressor(l2...</td>\n",
       "      <td>-0.23</td>\n",
       "      <td>-0.24</td>\n",
       "      <td>-0.23</td>\n",
       "      <td>-0.24</td>\n",
       "      <td>0.00</td>\n",
       "      <td>2</td>\n",
       "    </tr>\n",
       "    <tr>\n",
       "      <th>2</th>\n",
       "      <td>55.34</td>\n",
       "      <td>1.63</td>\n",
       "      <td>1.43</td>\n",
       "      <td>0.03</td>\n",
       "      <td>HistGradientBoostingRegressor(l2_regularizatio...</td>\n",
       "      <td>NaN</td>\n",
       "      <td>0.50</td>\n",
       "      <td>0.10</td>\n",
       "      <td>10</td>\n",
       "      <td>200</td>\n",
       "      <td>{'algoritmo': HistGradientBoostingRegressor(l2...</td>\n",
       "      <td>-0.24</td>\n",
       "      <td>-0.24</td>\n",
       "      <td>-0.23</td>\n",
       "      <td>-0.24</td>\n",
       "      <td>0.00</td>\n",
       "      <td>3</td>\n",
       "    </tr>\n",
       "    <tr>\n",
       "      <th>3</th>\n",
       "      <td>58.48</td>\n",
       "      <td>0.77</td>\n",
       "      <td>1.46</td>\n",
       "      <td>0.03</td>\n",
       "      <td>HistGradientBoostingRegressor(l2_regularizatio...</td>\n",
       "      <td>NaN</td>\n",
       "      <td>0</td>\n",
       "      <td>0.10</td>\n",
       "      <td>20</td>\n",
       "      <td>200</td>\n",
       "      <td>{'algoritmo': HistGradientBoostingRegressor(l2...</td>\n",
       "      <td>-0.23</td>\n",
       "      <td>-0.24</td>\n",
       "      <td>-0.23</td>\n",
       "      <td>-0.24</td>\n",
       "      <td>0.00</td>\n",
       "      <td>4</td>\n",
       "    </tr>\n",
       "    <tr>\n",
       "      <th>4</th>\n",
       "      <td>55.22</td>\n",
       "      <td>3.14</td>\n",
       "      <td>1.39</td>\n",
       "      <td>0.05</td>\n",
       "      <td>HistGradientBoostingRegressor(l2_regularizatio...</td>\n",
       "      <td>NaN</td>\n",
       "      <td>0.25</td>\n",
       "      <td>0.10</td>\n",
       "      <td>20</td>\n",
       "      <td>200</td>\n",
       "      <td>{'algoritmo': HistGradientBoostingRegressor(l2...</td>\n",
       "      <td>-0.23</td>\n",
       "      <td>-0.24</td>\n",
       "      <td>-0.24</td>\n",
       "      <td>-0.24</td>\n",
       "      <td>0.00</td>\n",
       "      <td>5</td>\n",
       "    </tr>\n",
       "    <tr>\n",
       "      <th>5</th>\n",
       "      <td>99.08</td>\n",
       "      <td>6.65</td>\n",
       "      <td>2.48</td>\n",
       "      <td>0.10</td>\n",
       "      <td>HistGradientBoostingRegressor(l2_regularizatio...</td>\n",
       "      <td>NaN</td>\n",
       "      <td>0.75</td>\n",
       "      <td>0.10</td>\n",
       "      <td>20</td>\n",
       "      <td>200</td>\n",
       "      <td>{'algoritmo': HistGradientBoostingRegressor(l2...</td>\n",
       "      <td>-0.24</td>\n",
       "      <td>-0.23</td>\n",
       "      <td>-0.24</td>\n",
       "      <td>-0.24</td>\n",
       "      <td>0.00</td>\n",
       "      <td>6</td>\n",
       "    </tr>\n",
       "    <tr>\n",
       "      <th>6</th>\n",
       "      <td>55.77</td>\n",
       "      <td>0.64</td>\n",
       "      <td>1.47</td>\n",
       "      <td>0.04</td>\n",
       "      <td>HistGradientBoostingRegressor(l2_regularizatio...</td>\n",
       "      <td>NaN</td>\n",
       "      <td>0</td>\n",
       "      <td>0.10</td>\n",
       "      <td>10</td>\n",
       "      <td>200</td>\n",
       "      <td>{'algoritmo': HistGradientBoostingRegressor(l2...</td>\n",
       "      <td>-0.24</td>\n",
       "      <td>-0.24</td>\n",
       "      <td>-0.24</td>\n",
       "      <td>-0.24</td>\n",
       "      <td>0.00</td>\n",
       "      <td>7</td>\n",
       "    </tr>\n",
       "    <tr>\n",
       "      <th>7</th>\n",
       "      <td>56.00</td>\n",
       "      <td>0.57</td>\n",
       "      <td>1.57</td>\n",
       "      <td>0.16</td>\n",
       "      <td>HistGradientBoostingRegressor(l2_regularizatio...</td>\n",
       "      <td>NaN</td>\n",
       "      <td>0.75</td>\n",
       "      <td>0.10</td>\n",
       "      <td>10</td>\n",
       "      <td>200</td>\n",
       "      <td>{'algoritmo': HistGradientBoostingRegressor(l2...</td>\n",
       "      <td>-0.23</td>\n",
       "      <td>-0.24</td>\n",
       "      <td>-0.24</td>\n",
       "      <td>-0.24</td>\n",
       "      <td>0.00</td>\n",
       "      <td>8</td>\n",
       "    </tr>\n",
       "    <tr>\n",
       "      <th>8</th>\n",
       "      <td>59.31</td>\n",
       "      <td>2.06</td>\n",
       "      <td>1.49</td>\n",
       "      <td>0.06</td>\n",
       "      <td>HistGradientBoostingRegressor(l2_regularizatio...</td>\n",
       "      <td>NaN</td>\n",
       "      <td>0.50</td>\n",
       "      <td>0.10</td>\n",
       "      <td>20</td>\n",
       "      <td>200</td>\n",
       "      <td>{'algoritmo': HistGradientBoostingRegressor(l2...</td>\n",
       "      <td>-0.23</td>\n",
       "      <td>-0.24</td>\n",
       "      <td>-0.24</td>\n",
       "      <td>-0.24</td>\n",
       "      <td>0.00</td>\n",
       "      <td>9</td>\n",
       "    </tr>\n",
       "    <tr>\n",
       "      <th>9</th>\n",
       "      <td>57.02</td>\n",
       "      <td>0.14</td>\n",
       "      <td>1.54</td>\n",
       "      <td>0.08</td>\n",
       "      <td>HistGradientBoostingRegressor(l2_regularizatio...</td>\n",
       "      <td>NaN</td>\n",
       "      <td>1</td>\n",
       "      <td>0.10</td>\n",
       "      <td>10</td>\n",
       "      <td>200</td>\n",
       "      <td>{'algoritmo': HistGradientBoostingRegressor(l2...</td>\n",
       "      <td>-0.24</td>\n",
       "      <td>-0.24</td>\n",
       "      <td>-0.24</td>\n",
       "      <td>-0.24</td>\n",
       "      <td>0.00</td>\n",
       "      <td>10</td>\n",
       "    </tr>\n",
       "  </tbody>\n",
       "</table>\n",
       "</div>"
      ],
      "text/plain": [
       "   mean_fit_time  std_fit_time  mean_score_time  std_score_time  \\\n",
       "0          59.70          0.49             1.42            0.07   \n",
       "1          55.71          0.91             1.44            0.03   \n",
       "2          55.34          1.63             1.43            0.03   \n",
       "3          58.48          0.77             1.46            0.03   \n",
       "4          55.22          3.14             1.39            0.05   \n",
       "5          99.08          6.65             2.48            0.10   \n",
       "6          55.77          0.64             1.47            0.04   \n",
       "7          56.00          0.57             1.57            0.16   \n",
       "8          59.31          2.06             1.49            0.06   \n",
       "9          57.02          0.14             1.54            0.08   \n",
       "\n",
       "                                     param_algoritmo param_algoritmo__alpha  \\\n",
       "0  HistGradientBoostingRegressor(l2_regularizatio...                    NaN   \n",
       "1  HistGradientBoostingRegressor(l2_regularizatio...                    NaN   \n",
       "2  HistGradientBoostingRegressor(l2_regularizatio...                    NaN   \n",
       "3  HistGradientBoostingRegressor(l2_regularizatio...                    NaN   \n",
       "4  HistGradientBoostingRegressor(l2_regularizatio...                    NaN   \n",
       "5  HistGradientBoostingRegressor(l2_regularizatio...                    NaN   \n",
       "6  HistGradientBoostingRegressor(l2_regularizatio...                    NaN   \n",
       "7  HistGradientBoostingRegressor(l2_regularizatio...                    NaN   \n",
       "8  HistGradientBoostingRegressor(l2_regularizatio...                    NaN   \n",
       "9  HistGradientBoostingRegressor(l2_regularizatio...                    NaN   \n",
       "\n",
       "  param_algoritmo__l2_regularization param_algoritmo__learning_rate  \\\n",
       "0                                  1                           0.10   \n",
       "1                               0.25                           0.10   \n",
       "2                               0.50                           0.10   \n",
       "3                                  0                           0.10   \n",
       "4                               0.25                           0.10   \n",
       "5                               0.75                           0.10   \n",
       "6                                  0                           0.10   \n",
       "7                               0.75                           0.10   \n",
       "8                               0.50                           0.10   \n",
       "9                                  1                           0.10   \n",
       "\n",
       "  param_algoritmo__max_depth param_algoritmo__max_iter  \\\n",
       "0                         20                       200   \n",
       "1                         10                       200   \n",
       "2                         10                       200   \n",
       "3                         20                       200   \n",
       "4                         20                       200   \n",
       "5                         20                       200   \n",
       "6                         10                       200   \n",
       "7                         10                       200   \n",
       "8                         20                       200   \n",
       "9                         10                       200   \n",
       "\n",
       "                                              params  split0_test_score  \\\n",
       "0  {'algoritmo': HistGradientBoostingRegressor(l2...              -0.23   \n",
       "1  {'algoritmo': HistGradientBoostingRegressor(l2...              -0.23   \n",
       "2  {'algoritmo': HistGradientBoostingRegressor(l2...              -0.24   \n",
       "3  {'algoritmo': HistGradientBoostingRegressor(l2...              -0.23   \n",
       "4  {'algoritmo': HistGradientBoostingRegressor(l2...              -0.23   \n",
       "5  {'algoritmo': HistGradientBoostingRegressor(l2...              -0.24   \n",
       "6  {'algoritmo': HistGradientBoostingRegressor(l2...              -0.24   \n",
       "7  {'algoritmo': HistGradientBoostingRegressor(l2...              -0.23   \n",
       "8  {'algoritmo': HistGradientBoostingRegressor(l2...              -0.23   \n",
       "9  {'algoritmo': HistGradientBoostingRegressor(l2...              -0.24   \n",
       "\n",
       "   split1_test_score  split2_test_score  mean_test_score  std_test_score  \\\n",
       "0              -0.24              -0.23            -0.23            0.00   \n",
       "1              -0.24              -0.23            -0.24            0.00   \n",
       "2              -0.24              -0.23            -0.24            0.00   \n",
       "3              -0.24              -0.23            -0.24            0.00   \n",
       "4              -0.24              -0.24            -0.24            0.00   \n",
       "5              -0.23              -0.24            -0.24            0.00   \n",
       "6              -0.24              -0.24            -0.24            0.00   \n",
       "7              -0.24              -0.24            -0.24            0.00   \n",
       "8              -0.24              -0.24            -0.24            0.00   \n",
       "9              -0.24              -0.24            -0.24            0.00   \n",
       "\n",
       "   rank_test_score  \n",
       "0                1  \n",
       "1                2  \n",
       "2                3  \n",
       "3                4  \n",
       "4                5  \n",
       "5                6  \n",
       "6                7  \n",
       "7                8  \n",
       "8                9  \n",
       "9               10  "
      ]
     },
     "execution_count": 9,
     "metadata": {},
     "output_type": "execute_result"
    }
   ],
   "source": [
    "salida = pd.DataFrame(grid_search.cv_results_).sort_values(by = 'rank_test_score').reset_index(drop=True).head(10)\n",
    "salida"
   ]
  },
  {
   "cell_type": "markdown",
   "id": "73a64fed",
   "metadata": {},
   "source": [
    "Vemos que el resultado es el mismo en todas las primeras configuraciones.\n",
    "\n",
    "Por sencillez nos quedamos con el primero.\n",
    "\n",
    "Y reentreamos el modelo con esa configuración."
   ]
  },
  {
   "cell_type": "code",
   "execution_count": 10,
   "id": "fe931bb7",
   "metadata": {},
   "outputs": [
    {
     "data": {
      "text/html": [
       "<style>#sk-container-id-1 {color: black;background-color: white;}#sk-container-id-1 pre{padding: 0;}#sk-container-id-1 div.sk-toggleable {background-color: white;}#sk-container-id-1 label.sk-toggleable__label {cursor: pointer;display: block;width: 100%;margin-bottom: 0;padding: 0.3em;box-sizing: border-box;text-align: center;}#sk-container-id-1 label.sk-toggleable__label-arrow:before {content: \"▸\";float: left;margin-right: 0.25em;color: #696969;}#sk-container-id-1 label.sk-toggleable__label-arrow:hover:before {color: black;}#sk-container-id-1 div.sk-estimator:hover label.sk-toggleable__label-arrow:before {color: black;}#sk-container-id-1 div.sk-toggleable__content {max-height: 0;max-width: 0;overflow: hidden;text-align: left;background-color: #f0f8ff;}#sk-container-id-1 div.sk-toggleable__content pre {margin: 0.2em;color: black;border-radius: 0.25em;background-color: #f0f8ff;}#sk-container-id-1 input.sk-toggleable__control:checked~div.sk-toggleable__content {max-height: 200px;max-width: 100%;overflow: auto;}#sk-container-id-1 input.sk-toggleable__control:checked~label.sk-toggleable__label-arrow:before {content: \"▾\";}#sk-container-id-1 div.sk-estimator input.sk-toggleable__control:checked~label.sk-toggleable__label {background-color: #d4ebff;}#sk-container-id-1 div.sk-label input.sk-toggleable__control:checked~label.sk-toggleable__label {background-color: #d4ebff;}#sk-container-id-1 input.sk-hidden--visually {border: 0;clip: rect(1px 1px 1px 1px);clip: rect(1px, 1px, 1px, 1px);height: 1px;margin: -1px;overflow: hidden;padding: 0;position: absolute;width: 1px;}#sk-container-id-1 div.sk-estimator {font-family: monospace;background-color: #f0f8ff;border: 1px dotted black;border-radius: 0.25em;box-sizing: border-box;margin-bottom: 0.5em;}#sk-container-id-1 div.sk-estimator:hover {background-color: #d4ebff;}#sk-container-id-1 div.sk-parallel-item::after {content: \"\";width: 100%;border-bottom: 1px solid gray;flex-grow: 1;}#sk-container-id-1 div.sk-label:hover label.sk-toggleable__label {background-color: #d4ebff;}#sk-container-id-1 div.sk-serial::before {content: \"\";position: absolute;border-left: 1px solid gray;box-sizing: border-box;top: 0;bottom: 0;left: 50%;z-index: 0;}#sk-container-id-1 div.sk-serial {display: flex;flex-direction: column;align-items: center;background-color: white;padding-right: 0.2em;padding-left: 0.2em;position: relative;}#sk-container-id-1 div.sk-item {position: relative;z-index: 1;}#sk-container-id-1 div.sk-parallel {display: flex;align-items: stretch;justify-content: center;background-color: white;position: relative;}#sk-container-id-1 div.sk-item::before, #sk-container-id-1 div.sk-parallel-item::before {content: \"\";position: absolute;border-left: 1px solid gray;box-sizing: border-box;top: 0;bottom: 0;left: 50%;z-index: -1;}#sk-container-id-1 div.sk-parallel-item {display: flex;flex-direction: column;z-index: 1;position: relative;background-color: white;}#sk-container-id-1 div.sk-parallel-item:first-child::after {align-self: flex-end;width: 50%;}#sk-container-id-1 div.sk-parallel-item:last-child::after {align-self: flex-start;width: 50%;}#sk-container-id-1 div.sk-parallel-item:only-child::after {width: 0;}#sk-container-id-1 div.sk-dashed-wrapped {border: 1px dashed gray;margin: 0 0.4em 0.5em 0.4em;box-sizing: border-box;padding-bottom: 0.4em;background-color: white;}#sk-container-id-1 div.sk-label label {font-family: monospace;font-weight: bold;display: inline-block;line-height: 1.2em;}#sk-container-id-1 div.sk-label-container {text-align: center;}#sk-container-id-1 div.sk-container {/* jupyter's `normalize.less` sets `[hidden] { display: none; }` but bootstrap.min.css set `[hidden] { display: none !important; }` so we also need the `!important` here to be able to override the default hidden behavior on the sphinx rendered scikit-learn.org. See: https://github.com/scikit-learn/scikit-learn/issues/21755 */display: inline-block !important;position: relative;}#sk-container-id-1 div.sk-text-repr-fallback {display: none;}</style><div id=\"sk-container-id-1\" class=\"sk-top-container\"><div class=\"sk-text-repr-fallback\"><pre>HistGradientBoostingRegressor(l2_regularization=0.75, max_depth=10,\n",
       "                              max_iter=200, min_samples_leaf=100,\n",
       "                              scoring=&#x27;neg_mean_absolute_percentage_error&#x27;)</pre><b>In a Jupyter environment, please rerun this cell to show the HTML representation or trust the notebook. <br />On GitHub, the HTML representation is unable to render, please try loading this page with nbviewer.org.</b></div><div class=\"sk-container\" hidden><div class=\"sk-item\"><div class=\"sk-estimator sk-toggleable\"><input class=\"sk-toggleable__control sk-hidden--visually\" id=\"sk-estimator-id-1\" type=\"checkbox\" checked><label for=\"sk-estimator-id-1\" class=\"sk-toggleable__label sk-toggleable__label-arrow\">HistGradientBoostingRegressor</label><div class=\"sk-toggleable__content\"><pre>HistGradientBoostingRegressor(l2_regularization=0.75, max_depth=10,\n",
       "                              max_iter=200, min_samples_leaf=100,\n",
       "                              scoring=&#x27;neg_mean_absolute_percentage_error&#x27;)</pre></div></div></div></div></div>"
      ],
      "text/plain": [
       "HistGradientBoostingRegressor(l2_regularization=0.75, max_depth=10,\n",
       "                              max_iter=200, min_samples_leaf=100,\n",
       "                              scoring='neg_mean_absolute_percentage_error')"
      ]
     },
     "execution_count": 10,
     "metadata": {},
     "output_type": "execute_result"
    }
   ],
   "source": [
    "modelo_ead = HistGradientBoostingRegressor(learning_rate = 0.1,\n",
    "                                          max_iter = 200,\n",
    "                                          max_depth = 10,\n",
    "                                          min_samples_leaf = 100,\n",
    "                                          scoring = 'neg_mean_absolute_percentage_error',\n",
    "                                          l2_regularization = 0.75)\n",
    "modelo_ead.fit(train_x,train_y)"
   ]
  },
  {
   "cell_type": "markdown",
   "id": "fd6f59ab",
   "metadata": {},
   "source": [
    "## EVALUAR"
   ]
  },
  {
   "cell_type": "markdown",
   "id": "90ac986a",
   "metadata": {},
   "source": [
    "### Predecir sobre validación"
   ]
  },
  {
   "cell_type": "code",
   "execution_count": 11,
   "id": "ca079478",
   "metadata": {},
   "outputs": [],
   "source": [
    "pred = modelo_ead.predict(val_x)"
   ]
  },
  {
   "cell_type": "markdown",
   "id": "68b5b3a2",
   "metadata": {},
   "source": [
    "Corregimos los máximos y mínimos."
   ]
  },
  {
   "cell_type": "code",
   "execution_count": 12,
   "id": "0f418951",
   "metadata": {},
   "outputs": [],
   "source": [
    "pred = np.where(pred < 0, 0, pred)\n",
    "pred = np.where(pred > 1, 1, pred)"
   ]
  },
  {
   "cell_type": "markdown",
   "id": "fe9fb9a1",
   "metadata": {},
   "source": [
    "### Evaluar sobre validación"
   ]
  },
  {
   "cell_type": "code",
   "execution_count": 13,
   "id": "f249d6b8",
   "metadata": {},
   "outputs": [
    {
     "data": {
      "text/plain": [
       "0.23562155243803248"
      ]
     },
     "execution_count": 13,
     "metadata": {},
     "output_type": "execute_result"
    }
   ],
   "source": [
    "mean_absolute_error(val_y, pred)"
   ]
  },
  {
   "cell_type": "markdown",
   "id": "f2848960",
   "metadata": {},
   "source": [
    "## REPORTING DEL MODELO"
   ]
  },
  {
   "cell_type": "code",
   "execution_count": 14,
   "id": "e1ba1abb",
   "metadata": {},
   "outputs": [
    {
     "data": {
      "text/html": [
       "<div>\n",
       "<style scoped>\n",
       "    .dataframe tbody tr th:only-of-type {\n",
       "        vertical-align: middle;\n",
       "    }\n",
       "\n",
       "    .dataframe tbody tr th {\n",
       "        vertical-align: top;\n",
       "    }\n",
       "\n",
       "    .dataframe thead th {\n",
       "        text-align: right;\n",
       "    }\n",
       "</style>\n",
       "<table border=\"1\" class=\"dataframe\">\n",
       "  <thead>\n",
       "    <tr style=\"text-align: right;\">\n",
       "      <th></th>\n",
       "      <th>ead_real</th>\n",
       "      <th>ead_pred</th>\n",
       "    </tr>\n",
       "    <tr>\n",
       "      <th>id_cliente</th>\n",
       "      <th></th>\n",
       "      <th></th>\n",
       "    </tr>\n",
       "  </thead>\n",
       "  <tbody>\n",
       "    <tr>\n",
       "      <th>4454651</th>\n",
       "      <td>0.96</td>\n",
       "      <td>0.30</td>\n",
       "    </tr>\n",
       "    <tr>\n",
       "      <th>131711869</th>\n",
       "      <td>0.88</td>\n",
       "      <td>0.68</td>\n",
       "    </tr>\n",
       "    <tr>\n",
       "      <th>14489492</th>\n",
       "      <td>0.00</td>\n",
       "      <td>0.31</td>\n",
       "    </tr>\n",
       "    <tr>\n",
       "      <th>118194389</th>\n",
       "      <td>0.55</td>\n",
       "      <td>0.49</td>\n",
       "    </tr>\n",
       "    <tr>\n",
       "      <th>76355345</th>\n",
       "      <td>0.00</td>\n",
       "      <td>0.15</td>\n",
       "    </tr>\n",
       "    <tr>\n",
       "      <th>...</th>\n",
       "      <td>...</td>\n",
       "      <td>...</td>\n",
       "    </tr>\n",
       "    <tr>\n",
       "      <th>100246304</th>\n",
       "      <td>0.69</td>\n",
       "      <td>0.39</td>\n",
       "    </tr>\n",
       "    <tr>\n",
       "      <th>123909045</th>\n",
       "      <td>0.81</td>\n",
       "      <td>0.62</td>\n",
       "    </tr>\n",
       "    <tr>\n",
       "      <th>93157877</th>\n",
       "      <td>0.25</td>\n",
       "      <td>0.20</td>\n",
       "    </tr>\n",
       "    <tr>\n",
       "      <th>140229211</th>\n",
       "      <td>0.95</td>\n",
       "      <td>0.66</td>\n",
       "    </tr>\n",
       "    <tr>\n",
       "      <th>119366651</th>\n",
       "      <td>0.00</td>\n",
       "      <td>0.53</td>\n",
       "    </tr>\n",
       "  </tbody>\n",
       "</table>\n",
       "<p>41718 rows × 2 columns</p>\n",
       "</div>"
      ],
      "text/plain": [
       "            ead_real  ead_pred\n",
       "id_cliente                    \n",
       "4454651         0.96      0.30\n",
       "131711869       0.88      0.68\n",
       "14489492        0.00      0.31\n",
       "118194389       0.55      0.49\n",
       "76355345        0.00      0.15\n",
       "...              ...       ...\n",
       "100246304       0.69      0.39\n",
       "123909045       0.81      0.62\n",
       "93157877        0.25      0.20\n",
       "140229211       0.95      0.66\n",
       "119366651       0.00      0.53\n",
       "\n",
       "[41718 rows x 2 columns]"
      ]
     },
     "execution_count": 14,
     "metadata": {},
     "output_type": "execute_result"
    }
   ],
   "source": [
    "check_validacion = pd.DataFrame({'ead_real':val_y, 'ead_pred':pred})\n",
    "check_validacion"
   ]
  },
  {
   "cell_type": "code",
   "execution_count": 15,
   "id": "d9b2278c",
   "metadata": {},
   "outputs": [
    {
     "data": {
      "text/html": [
       "<div>\n",
       "<style scoped>\n",
       "    .dataframe tbody tr th:only-of-type {\n",
       "        vertical-align: middle;\n",
       "    }\n",
       "\n",
       "    .dataframe tbody tr th {\n",
       "        vertical-align: top;\n",
       "    }\n",
       "\n",
       "    .dataframe thead th {\n",
       "        text-align: right;\n",
       "    }\n",
       "</style>\n",
       "<table border=\"1\" class=\"dataframe\">\n",
       "  <thead>\n",
       "    <tr style=\"text-align: right;\">\n",
       "      <th></th>\n",
       "      <th>ead_real</th>\n",
       "      <th>ead_pred</th>\n",
       "    </tr>\n",
       "  </thead>\n",
       "  <tbody>\n",
       "    <tr>\n",
       "      <th>ead_real</th>\n",
       "      <td>1.00</td>\n",
       "      <td>0.63</td>\n",
       "    </tr>\n",
       "    <tr>\n",
       "      <th>ead_pred</th>\n",
       "      <td>0.63</td>\n",
       "      <td>1.00</td>\n",
       "    </tr>\n",
       "  </tbody>\n",
       "</table>\n",
       "</div>"
      ],
      "text/plain": [
       "          ead_real  ead_pred\n",
       "ead_real      1.00      0.63\n",
       "ead_pred      0.63      1.00"
      ]
     },
     "execution_count": 15,
     "metadata": {},
     "output_type": "execute_result"
    }
   ],
   "source": [
    "check_validacion.corr()"
   ]
  },
  {
   "cell_type": "code",
   "execution_count": 16,
   "id": "2acc8d59",
   "metadata": {},
   "outputs": [
    {
     "data": {
      "image/png": "[encoded data removed]",
      "text/plain": [
       "<Figure size 640x480 with 1 Axes>"
      ]
     },
     "metadata": {},
     "output_type": "display_data"
    }
   ],
   "source": [
    "check_validacion.plot.scatter(x='ead_real',y='ead_pred');"
   ]
  },
  {
   "cell_type": "code",
   "execution_count": 17,
   "id": "f3e23652",
   "metadata": {},
   "outputs": [
    {
     "data": {
      "image/png": "[encoded data removed]",
      "text/plain": [
       "<Figure size 1000x600 with 1 Axes>"
      ]
     },
     "metadata": {},
     "output_type": "display_data"
    }
   ],
   "source": [
    "check_validacion.plot.density(figsize = (10,6));"
   ]
  }
 ],
 "metadata": {
  "kernelspec": {
   "display_name": "Python 3 (ipykernel)",
   "language": "python",
   "name": "python3"
  },
  "language_info": {
   "codemirror_mode": {
    "name": "ipython",
    "version": 3
   },
   "file_extension": ".py",
   "mimetype": "text/x-python",
   "name": "python",
   "nbconvert_exporter": "python",
   "pygments_lexer": "ipython3",
   "version": "3.11.7"
  },
  "toc": {
   "base_numbering": 1,
   "nav_menu": {},
   "number_sections": true,
   "sideBar": true,
   "skip_h1_title": false,
   "title_cell": "Table of Contents",
   "title_sidebar": "Contents",
   "toc_cell": false,
   "toc_position": {
    "height": "calc(100% - 180px)",
    "left": "10px",
    "top": "150px",
    "width": "253.95px"
   },
   "toc_section_display": true,
   "toc_window_display": true
  },
  "varInspector": {
   "cols": {
    "lenName": 16,
    "lenType": 16,
    "lenVar": 40
   },
   "kernels_config": {
    "python": {
     "delete_cmd_postfix": "",
     "delete_cmd_prefix": "del ",
     "library": "var_list.py",
     "varRefreshCmd": "print(var_dic_list())"
    },
    "r": {
     "delete_cmd_postfix": ") ",
     "delete_cmd_prefix": "rm(",
     "library": "var_list.r",
     "varRefreshCmd": "cat(var_dic_list()) "
    }
   },
   "position": {
    "height": "546.85px",
    "left": "1531.75px",
    "right": "20px",
    "top": "115px",
    "width": "350px"
   },
   "types_to_exclude": [
    "module",
    "function",
    "builtin_function_or_method",
    "instance",
    "_Feature"
   ],
   "window_display": false
  }
 },
 "nbformat": 4,
 "nbformat_minor": 5
}
