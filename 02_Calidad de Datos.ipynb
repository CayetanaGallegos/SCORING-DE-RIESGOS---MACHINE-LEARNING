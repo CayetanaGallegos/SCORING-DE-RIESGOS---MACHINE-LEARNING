{
 "cells": [
  {
   "cell_type": "markdown",
   "id": "d31dea65",
   "metadata": {},
   "source": [
    "# CALIDAD DE DATOS"
   ]
  },
  {
   "cell_type": "markdown",
   "id": "swiss-fault",
   "metadata": {},
   "source": [
    "## IMPORTAR PAQUETES"
   ]
  },
  {
   "cell_type": "code",
   "execution_count": 5,
   "id": "adjacent-toddler",
   "metadata": {},
   "outputs": [],
   "source": [
    "import numpy as np\n",
    "import pandas as pd\n",
    "from janitor import clean_names\n",
    "\n",
    "#Automcompletar rápido\n",
    "%config IPCompleter.greedy=True\n",
    "\n",
    "#Desactivar notación científica\n",
    "pd.options.display.float_format = '{:,.2f}'.format"
   ]
  },
  {
   "cell_type": "markdown",
   "id": "graduate-compensation",
   "metadata": {},
   "source": [
    "## IMPORTAR LOS DATOS"
   ]
  },
  {
   "cell_type": "markdown",
   "id": "38bb812b",
   "metadata": {},
   "source": [
    "Sustituir la ruta del proyecto."
   ]
  },
  {
   "cell_type": "code",
   "execution_count": 6,
   "id": "28c63848",
   "metadata": {},
   "outputs": [],
   "source": [
    "ruta_proyecto = 'C:/Users/Ana/Desktop/DATA_SCIENCE_FOR_BUSINESS/PYTHON_DATA_SCIENCE_MASTERY/EstructuraDirectorio/03_MACHINE_LEARNING/08_CASOS_/03_SCORING RIESGOS'"
   ]
  },
  {
   "cell_type": "markdown",
   "id": "ba473b09",
   "metadata": {},
   "source": [
    "Sustituir el nombre_fichero_datos."
   ]
  },
  {
   "cell_type": "code",
   "execution_count": 7,
   "id": "5d9dc5ea",
   "metadata": {},
   "outputs": [],
   "source": [
    "nombre_fichero_datos = 'trabajo.csv'"
   ]
  },
  {
   "cell_type": "markdown",
   "id": "ae75bf0b",
   "metadata": {},
   "source": [
    "Cargar los datos."
   ]
  },
  {
   "cell_type": "code",
   "execution_count": 8,
   "id": "24ff453b",
   "metadata": {},
   "outputs": [
    {
     "data": {
      "text/html": [
       "<div>\n",
       "<style scoped>\n",
       "    .dataframe tbody tr th:only-of-type {\n",
       "        vertical-align: middle;\n",
       "    }\n",
       "\n",
       "    .dataframe tbody tr th {\n",
       "        vertical-align: top;\n",
       "    }\n",
       "\n",
       "    .dataframe thead th {\n",
       "        text-align: right;\n",
       "    }\n",
       "</style>\n",
       "<table border=\"1\" class=\"dataframe\">\n",
       "  <thead>\n",
       "    <tr style=\"text-align: right;\">\n",
       "      <th></th>\n",
       "      <th>Unnamed: 0</th>\n",
       "      <th>empleo</th>\n",
       "      <th>antigüedad_empleo</th>\n",
       "      <th>ingresos</th>\n",
       "      <th>ingresos_verificados</th>\n",
       "      <th>rating</th>\n",
       "      <th>dti</th>\n",
       "      <th>vivienda</th>\n",
       "      <th>num_hipotecas</th>\n",
       "      <th>num_lineas_credito</th>\n",
       "      <th>...</th>\n",
       "      <th>id_prestamo</th>\n",
       "      <th>descripcion</th>\n",
       "      <th>finalidad</th>\n",
       "      <th>principal</th>\n",
       "      <th>tipo_interes</th>\n",
       "      <th>num_cuotas</th>\n",
       "      <th>imp_cuota</th>\n",
       "      <th>imp_amortizado</th>\n",
       "      <th>estado</th>\n",
       "      <th>imp_recuperado</th>\n",
       "    </tr>\n",
       "    <tr>\n",
       "      <th>id_cliente</th>\n",
       "      <th></th>\n",
       "      <th></th>\n",
       "      <th></th>\n",
       "      <th></th>\n",
       "      <th></th>\n",
       "      <th></th>\n",
       "      <th></th>\n",
       "      <th></th>\n",
       "      <th></th>\n",
       "      <th></th>\n",
       "      <th></th>\n",
       "      <th></th>\n",
       "      <th></th>\n",
       "      <th></th>\n",
       "      <th></th>\n",
       "      <th></th>\n",
       "      <th></th>\n",
       "      <th></th>\n",
       "      <th></th>\n",
       "      <th></th>\n",
       "      <th></th>\n",
       "    </tr>\n",
       "  </thead>\n",
       "  <tbody>\n",
       "    <tr>\n",
       "      <th>137387967</th>\n",
       "      <td>0</td>\n",
       "      <td>Hvac technician</td>\n",
       "      <td>3 years</td>\n",
       "      <td>54,000.00</td>\n",
       "      <td>Source Verified</td>\n",
       "      <td>A</td>\n",
       "      <td>19.31</td>\n",
       "      <td>MORTGAGE</td>\n",
       "      <td>2.00</td>\n",
       "      <td>10.00</td>\n",
       "      <td>...</td>\n",
       "      <td>NaN</td>\n",
       "      <td>NaN</td>\n",
       "      <td>debt_consolidation</td>\n",
       "      <td>15,000.00</td>\n",
       "      <td>7.21</td>\n",
       "      <td>36 months</td>\n",
       "      <td>464.60</td>\n",
       "      <td>2,669.06</td>\n",
       "      <td>Current</td>\n",
       "      <td>0.00</td>\n",
       "    </tr>\n",
       "    <tr>\n",
       "      <th>46641215</th>\n",
       "      <td>2</td>\n",
       "      <td>Banker</td>\n",
       "      <td>5 years</td>\n",
       "      <td>135,000.00</td>\n",
       "      <td>Verified</td>\n",
       "      <td>A</td>\n",
       "      <td>14.68</td>\n",
       "      <td>RENT</td>\n",
       "      <td>0.00</td>\n",
       "      <td>19.00</td>\n",
       "      <td>...</td>\n",
       "      <td>NaN</td>\n",
       "      <td>NaN</td>\n",
       "      <td>debt_consolidation</td>\n",
       "      <td>24,000.00</td>\n",
       "      <td>6.39</td>\n",
       "      <td>36 months</td>\n",
       "      <td>734.38</td>\n",
       "      <td>24,000.00</td>\n",
       "      <td>Fully Paid</td>\n",
       "      <td>0.00</td>\n",
       "    </tr>\n",
       "    <tr>\n",
       "      <th>87998444</th>\n",
       "      <td>3</td>\n",
       "      <td>executive director</td>\n",
       "      <td>9 years</td>\n",
       "      <td>188,000.00</td>\n",
       "      <td>Source Verified</td>\n",
       "      <td>B</td>\n",
       "      <td>11.69</td>\n",
       "      <td>MORTGAGE</td>\n",
       "      <td>3.00</td>\n",
       "      <td>15.00</td>\n",
       "      <td>...</td>\n",
       "      <td>NaN</td>\n",
       "      <td>NaN</td>\n",
       "      <td>credit_card</td>\n",
       "      <td>27,000.00</td>\n",
       "      <td>8.99</td>\n",
       "      <td>60 months</td>\n",
       "      <td>560.35</td>\n",
       "      <td>12,443.00</td>\n",
       "      <td>Current</td>\n",
       "      <td>0.00</td>\n",
       "    </tr>\n",
       "    <tr>\n",
       "      <th>131289518</th>\n",
       "      <td>5</td>\n",
       "      <td>NaN</td>\n",
       "      <td>10+ years</td>\n",
       "      <td>72,777.00</td>\n",
       "      <td>Source Verified</td>\n",
       "      <td>D</td>\n",
       "      <td>24.74</td>\n",
       "      <td>MORTGAGE</td>\n",
       "      <td>2.00</td>\n",
       "      <td>10.00</td>\n",
       "      <td>...</td>\n",
       "      <td>NaN</td>\n",
       "      <td>NaN</td>\n",
       "      <td>home_improvement</td>\n",
       "      <td>25,000.00</td>\n",
       "      <td>21.85</td>\n",
       "      <td>60 months</td>\n",
       "      <td>688.35</td>\n",
       "      <td>2,811.27</td>\n",
       "      <td>Current</td>\n",
       "      <td>0.00</td>\n",
       "    </tr>\n",
       "    <tr>\n",
       "      <th>77861711</th>\n",
       "      <td>6</td>\n",
       "      <td>Correctional officer</td>\n",
       "      <td>10+ years</td>\n",
       "      <td>50,000.00</td>\n",
       "      <td>Verified</td>\n",
       "      <td>C</td>\n",
       "      <td>29.31</td>\n",
       "      <td>MORTGAGE</td>\n",
       "      <td>1.00</td>\n",
       "      <td>8.00</td>\n",
       "      <td>...</td>\n",
       "      <td>NaN</td>\n",
       "      <td>NaN</td>\n",
       "      <td>debt_consolidation</td>\n",
       "      <td>14,400.00</td>\n",
       "      <td>15.31</td>\n",
       "      <td>36 months</td>\n",
       "      <td>501.37</td>\n",
       "      <td>2,310.49</td>\n",
       "      <td>Charged Off</td>\n",
       "      <td>6,430.36</td>\n",
       "    </tr>\n",
       "    <tr>\n",
       "      <th>...</th>\n",
       "      <td>...</td>\n",
       "      <td>...</td>\n",
       "      <td>...</td>\n",
       "      <td>...</td>\n",
       "      <td>...</td>\n",
       "      <td>...</td>\n",
       "      <td>...</td>\n",
       "      <td>...</td>\n",
       "      <td>...</td>\n",
       "      <td>...</td>\n",
       "      <td>...</td>\n",
       "      <td>...</td>\n",
       "      <td>...</td>\n",
       "      <td>...</td>\n",
       "      <td>...</td>\n",
       "      <td>...</td>\n",
       "      <td>...</td>\n",
       "      <td>...</td>\n",
       "      <td>...</td>\n",
       "      <td>...</td>\n",
       "      <td>...</td>\n",
       "    </tr>\n",
       "    <tr>\n",
       "      <th>129396054</th>\n",
       "      <td>199993</td>\n",
       "      <td>Field Manager</td>\n",
       "      <td>10+ years</td>\n",
       "      <td>55,000.00</td>\n",
       "      <td>Source Verified</td>\n",
       "      <td>D</td>\n",
       "      <td>15.36</td>\n",
       "      <td>OWN</td>\n",
       "      <td>1.00</td>\n",
       "      <td>7.00</td>\n",
       "      <td>...</td>\n",
       "      <td>NaN</td>\n",
       "      <td>NaN</td>\n",
       "      <td>debt_consolidation</td>\n",
       "      <td>14,400.00</td>\n",
       "      <td>17.47</td>\n",
       "      <td>60 months</td>\n",
       "      <td>361.53</td>\n",
       "      <td>1,975.94</td>\n",
       "      <td>Current</td>\n",
       "      <td>0.00</td>\n",
       "    </tr>\n",
       "    <tr>\n",
       "      <th>51876926</th>\n",
       "      <td>199995</td>\n",
       "      <td>Office Manager</td>\n",
       "      <td>10+ years</td>\n",
       "      <td>42,000.00</td>\n",
       "      <td>Not Verified</td>\n",
       "      <td>C</td>\n",
       "      <td>20.85</td>\n",
       "      <td>MORTGAGE</td>\n",
       "      <td>6.00</td>\n",
       "      <td>9.00</td>\n",
       "      <td>...</td>\n",
       "      <td>NaN</td>\n",
       "      <td>NaN</td>\n",
       "      <td>debt_consolidation</td>\n",
       "      <td>8,000.00</td>\n",
       "      <td>12.29</td>\n",
       "      <td>36 months</td>\n",
       "      <td>266.83</td>\n",
       "      <td>8,000.00</td>\n",
       "      <td>Fully Paid</td>\n",
       "      <td>0.00</td>\n",
       "    </tr>\n",
       "    <tr>\n",
       "      <th>121031962</th>\n",
       "      <td>199996</td>\n",
       "      <td>Owner &amp; President</td>\n",
       "      <td>6 years</td>\n",
       "      <td>111,697.00</td>\n",
       "      <td>Verified</td>\n",
       "      <td>B</td>\n",
       "      <td>16.63</td>\n",
       "      <td>MORTGAGE</td>\n",
       "      <td>2.00</td>\n",
       "      <td>10.00</td>\n",
       "      <td>...</td>\n",
       "      <td>NaN</td>\n",
       "      <td>NaN</td>\n",
       "      <td>other</td>\n",
       "      <td>10,000.00</td>\n",
       "      <td>9.44</td>\n",
       "      <td>36 months</td>\n",
       "      <td>320.05</td>\n",
       "      <td>4,388.51</td>\n",
       "      <td>Current</td>\n",
       "      <td>0.00</td>\n",
       "    </tr>\n",
       "    <tr>\n",
       "      <th>135641397</th>\n",
       "      <td>199997</td>\n",
       "      <td>Sr. Field Engineer</td>\n",
       "      <td>10+ years</td>\n",
       "      <td>285,000.00</td>\n",
       "      <td>Source Verified</td>\n",
       "      <td>D</td>\n",
       "      <td>6.02</td>\n",
       "      <td>MORTGAGE</td>\n",
       "      <td>3.00</td>\n",
       "      <td>9.00</td>\n",
       "      <td>...</td>\n",
       "      <td>NaN</td>\n",
       "      <td>NaN</td>\n",
       "      <td>small_business</td>\n",
       "      <td>30,000.00</td>\n",
       "      <td>17.47</td>\n",
       "      <td>36 months</td>\n",
       "      <td>1,076.62</td>\n",
       "      <td>5,387.53</td>\n",
       "      <td>Current</td>\n",
       "      <td>0.00</td>\n",
       "    </tr>\n",
       "    <tr>\n",
       "      <th>94394801</th>\n",
       "      <td>199999</td>\n",
       "      <td>NaN</td>\n",
       "      <td>NaN</td>\n",
       "      <td>80,000.00</td>\n",
       "      <td>Not Verified</td>\n",
       "      <td>C</td>\n",
       "      <td>31.49</td>\n",
       "      <td>MORTGAGE</td>\n",
       "      <td>1.00</td>\n",
       "      <td>9.00</td>\n",
       "      <td>...</td>\n",
       "      <td>NaN</td>\n",
       "      <td>NaN</td>\n",
       "      <td>debt_consolidation</td>\n",
       "      <td>10,000.00</td>\n",
       "      <td>13.99</td>\n",
       "      <td>36 months</td>\n",
       "      <td>341.73</td>\n",
       "      <td>7,096.40</td>\n",
       "      <td>Current</td>\n",
       "      <td>0.00</td>\n",
       "    </tr>\n",
       "  </tbody>\n",
       "</table>\n",
       "<p>140000 rows × 25 columns</p>\n",
       "</div>"
      ],
      "text/plain": [
       "            Unnamed: 0                empleo antigüedad_empleo   ingresos  \\\n",
       "id_cliente                                                                  \n",
       "137387967            0      Hvac technician            3 years  54,000.00   \n",
       "46641215             2                Banker           5 years 135,000.00   \n",
       "87998444             3    executive director           9 years 188,000.00   \n",
       "131289518            5                   NaN         10+ years  72,777.00   \n",
       "77861711             6  Correctional officer         10+ years  50,000.00   \n",
       "...                ...                   ...               ...        ...   \n",
       "129396054       199993         Field Manager         10+ years  55,000.00   \n",
       "51876926        199995        Office Manager         10+ years  42,000.00   \n",
       "121031962       199996     Owner & President           6 years 111,697.00   \n",
       "135641397       199997    Sr. Field Engineer         10+ years 285,000.00   \n",
       "94394801        199999                   NaN               NaN  80,000.00   \n",
       "\n",
       "           ingresos_verificados rating   dti  vivienda  num_hipotecas  \\\n",
       "id_cliente                                                              \n",
       "137387967       Source Verified      A 19.31  MORTGAGE           2.00   \n",
       "46641215               Verified      A 14.68      RENT           0.00   \n",
       "87998444        Source Verified      B 11.69  MORTGAGE           3.00   \n",
       "131289518       Source Verified      D 24.74  MORTGAGE           2.00   \n",
       "77861711               Verified      C 29.31  MORTGAGE           1.00   \n",
       "...                         ...    ...   ...       ...            ...   \n",
       "129396054       Source Verified      D 15.36       OWN           1.00   \n",
       "51876926           Not Verified      C 20.85  MORTGAGE           6.00   \n",
       "121031962              Verified      B 16.63  MORTGAGE           2.00   \n",
       "135641397       Source Verified      D  6.02  MORTGAGE           3.00   \n",
       "94394801           Not Verified      C 31.49  MORTGAGE           1.00   \n",
       "\n",
       "            num_lineas_credito  ...  id_prestamo  descripcion  \\\n",
       "id_cliente                      ...                             \n",
       "137387967                10.00  ...          NaN          NaN   \n",
       "46641215                 19.00  ...          NaN          NaN   \n",
       "87998444                 15.00  ...          NaN          NaN   \n",
       "131289518                10.00  ...          NaN          NaN   \n",
       "77861711                  8.00  ...          NaN          NaN   \n",
       "...                        ...  ...          ...          ...   \n",
       "129396054                 7.00  ...          NaN          NaN   \n",
       "51876926                  9.00  ...          NaN          NaN   \n",
       "121031962                10.00  ...          NaN          NaN   \n",
       "135641397                 9.00  ...          NaN          NaN   \n",
       "94394801                  9.00  ...          NaN          NaN   \n",
       "\n",
       "                     finalidad  principal  tipo_interes  num_cuotas imp_cuota  \\\n",
       "id_cliente                                                                      \n",
       "137387967   debt_consolidation  15,000.00          7.21   36 months    464.60   \n",
       "46641215    debt_consolidation  24,000.00          6.39   36 months    734.38   \n",
       "87998444           credit_card  27,000.00          8.99   60 months    560.35   \n",
       "131289518     home_improvement  25,000.00         21.85   60 months    688.35   \n",
       "77861711    debt_consolidation  14,400.00         15.31   36 months    501.37   \n",
       "...                        ...        ...           ...         ...       ...   \n",
       "129396054   debt_consolidation  14,400.00         17.47   60 months    361.53   \n",
       "51876926    debt_consolidation   8,000.00         12.29   36 months    266.83   \n",
       "121031962                other  10,000.00          9.44   36 months    320.05   \n",
       "135641397       small_business  30,000.00         17.47   36 months  1,076.62   \n",
       "94394801    debt_consolidation  10,000.00         13.99   36 months    341.73   \n",
       "\n",
       "           imp_amortizado       estado  imp_recuperado  \n",
       "id_cliente                                              \n",
       "137387967        2,669.06      Current            0.00  \n",
       "46641215        24,000.00   Fully Paid            0.00  \n",
       "87998444        12,443.00      Current            0.00  \n",
       "131289518        2,811.27      Current            0.00  \n",
       "77861711         2,310.49  Charged Off        6,430.36  \n",
       "...                   ...          ...             ...  \n",
       "129396054        1,975.94      Current            0.00  \n",
       "51876926         8,000.00   Fully Paid            0.00  \n",
       "121031962        4,388.51      Current            0.00  \n",
       "135641397        5,387.53      Current            0.00  \n",
       "94394801         7,096.40      Current            0.00  \n",
       "\n",
       "[140000 rows x 25 columns]"
      ]
     },
     "execution_count": 8,
     "metadata": {},
     "output_type": "execute_result"
    }
   ],
   "source": [
    "ruta_completa = ruta_proyecto + '/02_Datos/03_Trabajo/' + nombre_fichero_datos\n",
    "\n",
    "df = pd.read_csv(ruta_completa,index_col='id_cliente')\n",
    "df"
   ]
  },
  {
   "cell_type": "markdown",
   "id": "d2d5443c",
   "metadata": {},
   "source": [
    "## VISIÓN GENERAL"
   ]
  },
  {
   "cell_type": "code",
   "execution_count": 9,
   "id": "976c8ac6",
   "metadata": {
    "scrolled": true
   },
   "outputs": [
    {
     "name": "stdout",
     "output_type": "stream",
     "text": [
      "<class 'pandas.core.frame.DataFrame'>\n",
      "Index: 140000 entries, 137387967 to 94394801\n",
      "Data columns (total 25 columns):\n",
      " #   Column                       Non-Null Count   Dtype  \n",
      "---  ------                       --------------   -----  \n",
      " 0   Unnamed: 0                   140000 non-null  int64  \n",
      " 1   empleo                       129653 non-null  object \n",
      " 2   antigüedad_empleo            130901 non-null  object \n",
      " 3   ingresos                     140000 non-null  float64\n",
      " 4   ingresos_verificados         140000 non-null  object \n",
      " 5   rating                       140000 non-null  object \n",
      " 6   dti                          139896 non-null  float64\n",
      " 7   vivienda                     140000 non-null  object \n",
      " 8   num_hipotecas                136937 non-null  float64\n",
      " 9   num_lineas_credito           139998 non-null  float64\n",
      " 10  porc_tarjetas_75p            135385 non-null  float64\n",
      " 11  porc_uso_revolving           139891 non-null  float64\n",
      " 12  num_cancelaciones_12meses    139993 non-null  float64\n",
      " 13  num_derogatorios             139998 non-null  float64\n",
      " 14  num_meses_desde_ult_retraso  68215 non-null   float64\n",
      " 15  id_prestamo                  0 non-null       float64\n",
      " 16  descripcion                  7780 non-null    object \n",
      " 17  finalidad                    140000 non-null  object \n",
      " 18  principal                    140000 non-null  float64\n",
      " 19  tipo_interes                 140000 non-null  float64\n",
      " 20  num_cuotas                   140000 non-null  object \n",
      " 21  imp_cuota                    140000 non-null  float64\n",
      " 22  imp_amortizado               140000 non-null  float64\n",
      " 23  estado                       140000 non-null  object \n",
      " 24  imp_recuperado               140000 non-null  float64\n",
      "dtypes: float64(15), int64(1), object(9)\n",
      "memory usage: 27.8+ MB\n"
     ]
    }
   ],
   "source": [
    "df.info()"
   ]
  },
  {
   "cell_type": "markdown",
   "id": "e96f1c4e",
   "metadata": {},
   "source": [
    "### Corrección"
   ]
  },
  {
   "cell_type": "markdown",
   "id": "dea3f8ac",
   "metadata": {},
   "source": [
    "Eliminar la variable Unnamed: 0"
   ]
  },
  {
   "cell_type": "code",
   "execution_count": 10,
   "id": "94cccc38",
   "metadata": {},
   "outputs": [],
   "source": [
    "df.drop(columns='Unnamed: 0',inplace=True)"
   ]
  },
  {
   "cell_type": "markdown",
   "id": "158ee1d7",
   "metadata": {},
   "source": [
    "## TIPOS DE DATOS"
   ]
  },
  {
   "cell_type": "markdown",
   "id": "88162727",
   "metadata": {},
   "source": [
    "### Identificación"
   ]
  },
  {
   "cell_type": "code",
   "execution_count": 11,
   "id": "197a99c2",
   "metadata": {
    "scrolled": true
   },
   "outputs": [
    {
     "data": {
      "text/plain": [
       "empleo                          object\n",
       "antigüedad_empleo               object\n",
       "ingresos                       float64\n",
       "ingresos_verificados            object\n",
       "rating                          object\n",
       "dti                            float64\n",
       "vivienda                        object\n",
       "num_hipotecas                  float64\n",
       "num_lineas_credito             float64\n",
       "porc_tarjetas_75p              float64\n",
       "porc_uso_revolving             float64\n",
       "num_cancelaciones_12meses      float64\n",
       "num_derogatorios               float64\n",
       "num_meses_desde_ult_retraso    float64\n",
       "id_prestamo                    float64\n",
       "descripcion                     object\n",
       "finalidad                       object\n",
       "principal                      float64\n",
       "tipo_interes                   float64\n",
       "num_cuotas                      object\n",
       "imp_cuota                      float64\n",
       "imp_amortizado                 float64\n",
       "estado                          object\n",
       "imp_recuperado                 float64\n",
       "dtype: object"
      ]
     },
     "execution_count": 11,
     "metadata": {},
     "output_type": "execute_result"
    }
   ],
   "source": [
    "df.dtypes"
   ]
  },
  {
   "cell_type": "markdown",
   "id": "f29bc3fb",
   "metadata": {},
   "source": [
    "Conclusiones:\n",
    "\n",
    "* Todo correcto en cuanto a tipo de datos"
   ]
  },
  {
   "cell_type": "markdown",
   "id": "cc8d4a22",
   "metadata": {},
   "source": [
    "## VALORES ÚNICOS"
   ]
  },
  {
   "cell_type": "markdown",
   "id": "f21f0e36",
   "metadata": {},
   "source": [
    "### Identificación"
   ]
  },
  {
   "cell_type": "code",
   "execution_count": 12,
   "id": "6e53e444",
   "metadata": {
    "scrolled": true
   },
   "outputs": [
    {
     "data": {
      "text/plain": [
       "id_prestamo                        0\n",
       "num_cuotas                         2\n",
       "ingresos_verificados               3\n",
       "num_cancelaciones_12meses          5\n",
       "vivienda                           6\n",
       "rating                             7\n",
       "estado                             9\n",
       "antigüedad_empleo                 11\n",
       "finalidad                         14\n",
       "num_derogatorios                  20\n",
       "num_hipotecas                     25\n",
       "num_lineas_credito                63\n",
       "num_meses_desde_ult_retraso      128\n",
       "porc_tarjetas_75p                172\n",
       "tipo_interes                     588\n",
       "porc_uso_revolving              1105\n",
       "principal                       1476\n",
       "dti                             5284\n",
       "descripcion                     7753\n",
       "imp_recuperado                 10609\n",
       "ingresos                       11635\n",
       "imp_cuota                      33709\n",
       "empleo                         54639\n",
       "imp_amortizado                 57731\n",
       "dtype: int64"
      ]
     },
     "execution_count": 12,
     "metadata": {},
     "output_type": "execute_result"
    }
   ],
   "source": [
    "df.nunique().sort_values()"
   ]
  },
  {
   "cell_type": "markdown",
   "id": "a1106594",
   "metadata": {},
   "source": [
    "Conclusiones:\n",
    "\n",
    "* id_prestamo con menos de 2 valores --> eliminar"
   ]
  },
  {
   "cell_type": "markdown",
   "id": "b1d1a668",
   "metadata": {},
   "source": [
    "### Corrección"
   ]
  },
  {
   "cell_type": "code",
   "execution_count": 13,
   "id": "62f7d14e",
   "metadata": {},
   "outputs": [],
   "source": [
    "df.drop(columns = 'id_prestamo', inplace = True)"
   ]
  },
  {
   "cell_type": "markdown",
   "id": "e25cfc89",
   "metadata": {},
   "source": [
    "## DUPLICADOS"
   ]
  },
  {
   "cell_type": "markdown",
   "id": "8a079ed3",
   "metadata": {},
   "source": [
    "### Identificación"
   ]
  },
  {
   "cell_type": "code",
   "execution_count": 14,
   "id": "f5b23bfc",
   "metadata": {
    "scrolled": true
   },
   "outputs": [
    {
     "data": {
      "text/plain": [
       "0"
      ]
     },
     "execution_count": 14,
     "metadata": {},
     "output_type": "execute_result"
    }
   ],
   "source": [
    "df.duplicated().sum()"
   ]
  },
  {
   "cell_type": "markdown",
   "id": "632ec2cd",
   "metadata": {},
   "source": [
    "## SEPARAR NUMÉRICAS Y CATEGÓRICAS"
   ]
  },
  {
   "cell_type": "markdown",
   "id": "573a61ac",
   "metadata": {},
   "source": [
    "### Categóricas"
   ]
  },
  {
   "cell_type": "code",
   "execution_count": 15,
   "id": "47a7eece",
   "metadata": {},
   "outputs": [],
   "source": [
    "cat = df.select_dtypes(exclude = 'number').copy()"
   ]
  },
  {
   "cell_type": "markdown",
   "id": "41756893",
   "metadata": {},
   "source": [
    "### Numéricas"
   ]
  },
  {
   "cell_type": "code",
   "execution_count": 16,
   "id": "59140e9a",
   "metadata": {},
   "outputs": [],
   "source": [
    "num = df.select_dtypes(include='number').copy()"
   ]
  },
  {
   "cell_type": "markdown",
   "id": "5e7d8e7e",
   "metadata": {},
   "source": [
    "## GESTIÓN DE CATEGÓRICAS"
   ]
  },
  {
   "cell_type": "markdown",
   "id": "5b5808b7",
   "metadata": {},
   "source": [
    "### Nulos"
   ]
  },
  {
   "cell_type": "markdown",
   "id": "5c08ca55",
   "metadata": {},
   "source": [
    "#### Identificación"
   ]
  },
  {
   "cell_type": "code",
   "execution_count": 17,
   "id": "da49ae63",
   "metadata": {
    "scrolled": true
   },
   "outputs": [
    {
     "data": {
      "text/plain": [
       "descripcion             132220\n",
       "empleo                   10347\n",
       "antigüedad_empleo         9099\n",
       "ingresos_verificados         0\n",
       "rating                       0\n",
       "vivienda                     0\n",
       "finalidad                    0\n",
       "num_cuotas                   0\n",
       "estado                       0\n",
       "dtype: int64"
      ]
     },
     "execution_count": 17,
     "metadata": {},
     "output_type": "execute_result"
    }
   ],
   "source": [
    "cat.isna().sum().sort_values(ascending = False)"
   ]
  },
  {
   "cell_type": "code",
   "execution_count": 18,
   "id": "b95992ce",
   "metadata": {},
   "outputs": [
    {
     "data": {
      "text/plain": [
       "descripcion\n",
       "NaN                                                                                                                                                                                                                                                                                                                                                                                                                                                                                                                                                                                                                                                                                                                                                                                                                                                           132220\n",
       "                                                                                                                                                                                                                                                                                                                                                                                                                                                                                                                                                                                                                                                                                                                                                                                                                                                                  17\n",
       "Personal loan                                                                                                                                                                                                                                                                                                                                                                                                                                                                                                                                                                                                                                                                                                                                                                                                                                                      2\n",
       "  Borrower added on 05/21/13 > Debt consolidation<br>                                                                                                                                                                                                                                                                                                                                                                                                                                                                                                                                                                                                                                                                                                                                                                                                              2\n",
       "Debt consolidation                                                                                                                                                                                                                                                                                                                                                                                                                                                                                                                                                                                                                                                                                                                                                                                                                                                 2\n",
       "                                                                                                                                                                                                                                                                                                                                                                                                                                                                                                                                                                                                                                                                                                                                                                                                                                                               ...  \n",
       "  Borrower added on 10/02/10 > i very much need this loan to fix window problems i have in my new home.<br/> Borrower added on 10/03/10 > the home is over 50 years old. Well taken care of but needs some TLC in some areas. I am short on funds right now, but need the get some windows repaired fro the coming winter. I have a steady job.<br/>                                                                                                                                                                                                                                                                                                                                                                                                                                                                                                               1\n",
       "  Borrower added on 10/30/12 > to clean up the passed mess<br>                                                                                                                                                                                                                                                                                                                                                                                                                                                                                                                                                                                                                                                                                                                                                                                                     1\n",
       "  Borrower added on 04/09/11 > I will be using this laon to consolidate high interest credit card debt. I am currently paying 800 in min payments so this will relieve my financial challenges. I have a clean credit history and have never been late on a credit card/unsecured debt payment. The only  negative mark on my credit is form Bank of the West for a car loan. Tha car was totaled out by the insurance company in November 2010 and the insurance did not pay the loan in full until February 2011. I have currently submitted a dispute through Bank of the West. I am employed as a Loss Mitigation Operations Manager for ServiceLink. We process Short Sales, modification and deed in lieu for several mortgage companies. So in today economy, where FC is still evident in every city, you can see my position is very secure.<br/>         1\n",
       "  Borrower added on 12/03/10 > Looking to repair roof and add insulation.  Just paid down a big chunk of revolving debt before roof issue began.  Such is life!<br/> Borrower added on 12/03/10 > I have a 750+ score and a 100% on-time payment record.  My revolving credit will be reduced significantly in the near future.<br/>                                                                                                                                                                                                                                                                                                                                                                                                                                                                                                                               1\n",
       "  Borrower added on 11/01/11 > Looking to use this loan to repay my large credit card debits.  I have always paid all of my debt payments on time, and am trying to get out from underneath all of this credit card debt now.  I have an extremely safe job as I work for a very conservative international mutual fund company, which I have been employed by for 5 years now.  Please let me know if you would like any further information about this loan.<br/><br/>Thanks!<br/>                                                                                                                                                                                                                                                                                                                                                                               1\n",
       "Name: count, Length: 7754, dtype: int64"
      ]
     },
     "execution_count": 18,
     "metadata": {},
     "output_type": "execute_result"
    }
   ],
   "source": [
    "cat.descripcion.value_counts(dropna=False)"
   ]
  },
  {
   "cell_type": "code",
   "execution_count": 19,
   "id": "d3b9f1e7",
   "metadata": {},
   "outputs": [
    {
     "data": {
      "text/plain": [
       "empleo\n",
       "NaN                         10347\n",
       "Teacher                      2493\n",
       "Manager                      2190\n",
       "Owner                        1339\n",
       "Registered Nurse              974\n",
       "                            ...  \n",
       "Sr research associate           1\n",
       "Manager Network Services        1\n",
       "CBP TECH                        1\n",
       "OfficeMax                       1\n",
       "Sr. Field Engineer              1\n",
       "Name: count, Length: 54640, dtype: int64"
      ]
     },
     "execution_count": 19,
     "metadata": {},
     "output_type": "execute_result"
    }
   ],
   "source": [
    "cat.empleo.value_counts(dropna=False)"
   ]
  },
  {
   "cell_type": "code",
   "execution_count": 20,
   "id": "cac1218b",
   "metadata": {},
   "outputs": [
    {
     "data": {
      "text/plain": [
       "antigüedad_empleo\n",
       "10+ years    46362\n",
       "2 years      12399\n",
       "< 1 year     11793\n",
       "3 years      11306\n",
       "1 year        9160\n",
       "NaN           9099\n",
       "5 years       8610\n",
       "4 years       8536\n",
       "6 years       6273\n",
       "7 years       5758\n",
       "8 years       5755\n",
       "9 years       4949\n",
       "Name: count, dtype: int64"
      ]
     },
     "execution_count": 20,
     "metadata": {},
     "output_type": "execute_result"
    }
   ],
   "source": [
    "cat.antigüedad_empleo.value_counts(dropna=False)"
   ]
  },
  {
   "cell_type": "markdown",
   "id": "45ca2193",
   "metadata": {},
   "source": [
    "Conclusiones:\n",
    "\n",
    "* sustituir todas por valor 'desconocido'"
   ]
  },
  {
   "cell_type": "markdown",
   "id": "6802d575",
   "metadata": {},
   "source": [
    "#### Corrección"
   ]
  },
  {
   "cell_type": "markdown",
   "id": "ebeb52a6",
   "metadata": {},
   "source": [
    "##### Imputar por un valor"
   ]
  },
  {
   "cell_type": "markdown",
   "id": "2cba1c3c",
   "metadata": {},
   "source": [
    "###### Variables a imputar"
   ]
  },
  {
   "cell_type": "code",
   "execution_count": 21,
   "id": "4050ef9f",
   "metadata": {},
   "outputs": [],
   "source": [
    "var_imputar_desconocido = ['descripcion','empleo','antigüedad_empleo']"
   ]
  },
  {
   "cell_type": "markdown",
   "id": "78d10252",
   "metadata": {},
   "source": [
    "###### Imputar"
   ]
  },
  {
   "cell_type": "code",
   "execution_count": 22,
   "id": "f16e8491",
   "metadata": {},
   "outputs": [],
   "source": [
    "cat[var_imputar_desconocido] = cat[var_imputar_desconocido].fillna('desconocido')"
   ]
  },
  {
   "cell_type": "markdown",
   "id": "db3a72a6",
   "metadata": {},
   "source": [
    "## GESTIÓN DE NUMÉRICAS"
   ]
  },
  {
   "cell_type": "markdown",
   "id": "d65bd06a",
   "metadata": {},
   "source": [
    "### Nulos"
   ]
  },
  {
   "cell_type": "markdown",
   "id": "e5ee8416",
   "metadata": {},
   "source": [
    "#### Identificación"
   ]
  },
  {
   "cell_type": "code",
   "execution_count": 23,
   "id": "c9f054a3",
   "metadata": {
    "scrolled": true
   },
   "outputs": [
    {
     "data": {
      "text/plain": [
       "num_meses_desde_ult_retraso    71785\n",
       "porc_tarjetas_75p               4615\n",
       "num_hipotecas                   3063\n",
       "porc_uso_revolving               109\n",
       "dti                              104\n",
       "num_cancelaciones_12meses          7\n",
       "num_lineas_credito                 2\n",
       "num_derogatorios                   2\n",
       "ingresos                           0\n",
       "principal                          0\n",
       "tipo_interes                       0\n",
       "imp_cuota                          0\n",
       "imp_amortizado                     0\n",
       "imp_recuperado                     0\n",
       "dtype: int64"
      ]
     },
     "execution_count": 23,
     "metadata": {},
     "output_type": "execute_result"
    }
   ],
   "source": [
    "num.isna().sum().sort_values(ascending = False)"
   ]
  },
  {
   "cell_type": "markdown",
   "id": "a043a2e8",
   "metadata": {},
   "source": [
    "Veamoslas con más detalle."
   ]
  },
  {
   "cell_type": "code",
   "execution_count": 24,
   "id": "aa5112af",
   "metadata": {},
   "outputs": [
    {
     "data": {
      "image/png": "[encoded data removed]",
      "text/plain": [
       "<Figure size 1200x600 with 1 Axes>"
      ]
     },
     "metadata": {},
     "output_type": "display_data"
    }
   ],
   "source": [
    "num.num_meses_desde_ult_retraso.value_counts().sort_index().plot.bar(figsize = (12,6));"
   ]
  },
  {
   "cell_type": "markdown",
   "id": "7e2ff55b",
   "metadata": {},
   "source": [
    "Haya ceros, pero parecen pocos para una variable que implica retrasos.\n",
    "\n",
    "Así que vamos a pensar que los nulos significan que no ha habido retrasos.\n",
    "\n",
    "Y por tanto imputar por ceros."
   ]
  },
  {
   "cell_type": "code",
   "execution_count": 25,
   "id": "2873ee93",
   "metadata": {},
   "outputs": [
    {
     "data": {
      "image/png": "[encoded data removed]",
      "text/plain": [
       "<Figure size 1200x600 with 1 Axes>"
      ]
     },
     "metadata": {},
     "output_type": "display_data"
    }
   ],
   "source": [
    "num.porc_tarjetas_75p.value_counts().sort_index().plot.bar(figsize = (12,6));"
   ]
  },
  {
   "cell_type": "markdown",
   "id": "1bff94a6",
   "metadata": {},
   "source": [
    "La categoría mayoritaria es cero.\n",
    "\n",
    "Imputaremos por cero."
   ]
  },
  {
   "cell_type": "code",
   "execution_count": 26,
   "id": "e0bb1a4a",
   "metadata": {},
   "outputs": [
    {
     "data": {
      "image/png": "[encoded data removed]",
      "text/plain": [
       "<Figure size 1200x600 with 1 Axes>"
      ]
     },
     "metadata": {},
     "output_type": "display_data"
    }
   ],
   "source": [
    "num.num_hipotecas.value_counts().sort_index().plot.bar(figsize = (12,6));"
   ]
  },
  {
   "cell_type": "markdown",
   "id": "d0269d6c",
   "metadata": {},
   "source": [
    "La categoría mayoritaria es cero.\n",
    "\n",
    "Imputaremos por cero."
   ]
  },
  {
   "cell_type": "markdown",
   "id": "750b3940",
   "metadata": {},
   "source": [
    "Conclusiones:\n",
    "\n",
    "* imputar todas por ceros"
   ]
  },
  {
   "cell_type": "markdown",
   "id": "562eea7f",
   "metadata": {},
   "source": [
    "#### Corrección"
   ]
  },
  {
   "cell_type": "code",
   "execution_count": 27,
   "id": "37d7e0d9",
   "metadata": {},
   "outputs": [],
   "source": [
    "num.fillna(0,inplace=True)"
   ]
  },
  {
   "cell_type": "markdown",
   "id": "82cb56e8",
   "metadata": {},
   "source": [
    "### Atípicos"
   ]
  },
  {
   "cell_type": "markdown",
   "id": "760baf8c",
   "metadata": {},
   "source": [
    "#### Por desviación típica"
   ]
  },
  {
   "cell_type": "markdown",
   "id": "4b508149",
   "metadata": {},
   "source": [
    "##### Identificación"
   ]
  },
  {
   "cell_type": "markdown",
   "id": "8ceda3d3",
   "metadata": {},
   "source": [
    "###### Definir el número de desviaciones típicas"
   ]
  },
  {
   "cell_type": "code",
   "execution_count": 28,
   "id": "2b7419cb",
   "metadata": {},
   "outputs": [],
   "source": [
    "num_desv_tip = 4"
   ]
  },
  {
   "cell_type": "markdown",
   "id": "942da237",
   "metadata": {},
   "source": [
    "###### Función que devuelve los índices de los atípicos"
   ]
  },
  {
   "cell_type": "code",
   "execution_count": 29,
   "id": "8a81f494",
   "metadata": {},
   "outputs": [],
   "source": [
    "def atipicos_desv_tip(variable, num_desv_tip = 4):\n",
    "    #sacamos los nulos por ahora\n",
    "    variable = variable.dropna()\n",
    "    #calculamos los límites\n",
    "    media = np.mean(variable)\n",
    "    sd = np.std(variable)\n",
    "    umbral = sd * num_desv_tip\n",
    "    lim_inf = media - umbral\n",
    "    lim_sup = media + umbral\n",
    "    #encontramos los índices de los que están fuera de los límites\n",
    "    indices = [indice for indice,valor in variable.items() if valor < lim_inf or valor > lim_sup]\n",
    "    return(indices)"
   ]
  },
  {
   "cell_type": "markdown",
   "id": "768e7398",
   "metadata": {},
   "source": [
    "###### Función que cuenta el número de atípicos"
   ]
  },
  {
   "cell_type": "code",
   "execution_count": 30,
   "id": "5c8f4462",
   "metadata": {},
   "outputs": [],
   "source": [
    "def conteo_atipicos(df,variable, num_desv_tip = 4):\n",
    "    atipicos = atipicos_desv_tip(df[variable], num_desv_tip)\n",
    "    return(df.loc[atipicos,variable].value_counts().sort_index())"
   ]
  },
  {
   "cell_type": "markdown",
   "id": "5cd1e425",
   "metadata": {},
   "source": [
    "###### Variables a aplicar"
   ]
  },
  {
   "cell_type": "code",
   "execution_count": 31,
   "id": "cfbb3d88",
   "metadata": {},
   "outputs": [],
   "source": [
    "var_atipicos_dt = ['ingresos','principal','imp_cuota','imp_recuperado']"
   ]
  },
  {
   "cell_type": "markdown",
   "id": "ac400ced",
   "metadata": {},
   "source": [
    "###### Aplicar"
   ]
  },
  {
   "cell_type": "code",
   "execution_count": 32,
   "id": "c4b74e98",
   "metadata": {},
   "outputs": [
    {
     "name": "stdout",
     "output_type": "stream",
     "text": [
      "\n",
      "ingresos:\n",
      "\n",
      "ingresos\n",
      "420,000.00       10\n",
      "422,000.00        1\n",
      "422,550.00        1\n",
      "423,000.00        2\n",
      "424,000.00        2\n",
      "                 ..\n",
      "7,845,315.00      1\n",
      "8,500,000.00      1\n",
      "8,500,021.00      1\n",
      "9,550,000.00      1\n",
      "10,999,200.00     1\n",
      "Name: count, Length: 150, dtype: int64\n",
      "\n",
      "principal:\n",
      "\n",
      "Series([], Name: count, dtype: int64)\n",
      "\n",
      "imp_cuota:\n",
      "\n",
      "imp_cuota\n",
      "1,566.80    1\n",
      "1,587.02    1\n",
      "1,607.80    1\n",
      "1,714.54    1\n",
      "Name: count, dtype: int64\n",
      "\n",
      "imp_recuperado:\n",
      "\n",
      "imp_recuperado\n",
      "3,262.00     1\n",
      "3,262.76     1\n",
      "3,265.47     1\n",
      "3,266.72     1\n",
      "3,267.08     1\n",
      "            ..\n",
      "24,383.06    1\n",
      "26,172.99    1\n",
      "27,478.64    1\n",
      "33,407.16    1\n",
      "33,666.34    1\n",
      "Name: count, Length: 1519, dtype: int64\n"
     ]
    }
   ],
   "source": [
    "for variable in var_atipicos_dt:\n",
    "    print('\\n' + variable + ':\\n')\n",
    "    print(conteo_atipicos(num,variable,num_desv_tip))"
   ]
  },
  {
   "cell_type": "markdown",
   "id": "5beaeba9",
   "metadata": {},
   "source": [
    "Revisamos con más detalle la variable ingresos."
   ]
  },
  {
   "cell_type": "code",
   "execution_count": 33,
   "id": "0b1c7eb8",
   "metadata": {},
   "outputs": [
    {
     "data": {
      "text/plain": [
       "count      140,000.00\n",
       "mean        78,259.01\n",
       "std         84,724.24\n",
       "min              0.00\n",
       "25%         46,000.00\n",
       "50%         65,000.00\n",
       "75%         93,000.00\n",
       "max     10,999,200.00\n",
       "Name: ingresos, dtype: float64"
      ]
     },
     "execution_count": 33,
     "metadata": {},
     "output_type": "execute_result"
    }
   ],
   "source": [
    "num.ingresos.describe()"
   ]
  },
  {
   "cell_type": "markdown",
   "id": "5197aae9",
   "metadata": {},
   "source": [
    "##### Corrección"
   ]
  },
  {
   "cell_type": "markdown",
   "id": "2b9255dd",
   "metadata": {},
   "source": [
    "Eliminar los registros con ingresos superiores a 300.000$"
   ]
  },
  {
   "cell_type": "markdown",
   "id": "e1233b46",
   "metadata": {},
   "source": [
    "*Cuidado: Si se eliminan registros hay que eliminarlos tanto de cat como de num*"
   ]
  },
  {
   "cell_type": "markdown",
   "id": "18548d6d",
   "metadata": {},
   "source": [
    "###### Id de registros a eliminar"
   ]
  },
  {
   "cell_type": "code",
   "execution_count": 34,
   "id": "7d1c1e81",
   "metadata": {},
   "outputs": [
    {
     "data": {
      "text/plain": [
       "array([ 97629676,    601669, 115087816,  30115373,  58654033,  70180828,\n",
       "        83678168, 128295694,  57316403,  75468055, 104953803,  55380417,\n",
       "        68355962,  60525500,  59101444,  26329813, 114093587, 121891976,\n",
       "          458760, 145133997, 141509839,  99967449,  74845067, 113905376,\n",
       "        91162705,  69967314, 134144676,  79015002,  33371205,  88195703,\n",
       "       136270374, 114793732,  97457564, 115048244, 110905405, 128843574,\n",
       "        75358546,  39559363,  65038134, 142502569, 107733336,  91131807,\n",
       "       122689487,  57074442, 133401013,  60831304,  40942257,  79492925,\n",
       "       116881558, 115085050,   3630153,  78419419,  79390430, 141591423,\n",
       "        92659557,  60963266, 138925364, 102523636, 128067879,  18895853,\n",
       "       109743090,    225812, 109322909,  92035926,  12938159, 107355068,\n",
       "       125518577, 120217704, 104110402, 125737574, 132251779, 104319520,\n",
       "       145242693,  79081285,  96979795, 120150582, 105895840, 124877413,\n",
       "       125330617, 140598256,   3643552, 103337282,   1533286,  14479716,\n",
       "         2092000,  54248761, 145550896, 102574792, 145349679,  10105445,\n",
       "        57206063,    572578, 122681489, 135802748,  74523571,  46742451,\n",
       "       120205589,  46808563, 120605739,   1689366,  62236660, 141424441,\n",
       "        92104768,  51898166, 119787910,  56934450,  14530758,  39360555,\n",
       "       135369591, 140851137, 140959562,  41130637, 143570470,   6708897,\n",
       "        50515982,  91946592, 142066146,  51195674,  98197574,  75768580,\n",
       "       139257255, 120091603, 101402707, 134144026,  81180268,  93820307,\n",
       "       142447421,  98845836,  60893886,  33411438, 144884757,  94479580,\n",
       "       127844526, 134124984, 142275020,  77815438, 121858382, 104092211,\n",
       "        12596976,  50053165, 117716248,  44389210,   9775633, 144541752,\n",
       "       134387430, 102586814,   2084601, 133534237,   4305549,  75447714,\n",
       "        66572368,  73302640, 100081315, 131712369, 135655382,  19096231,\n",
       "        21940897,  67998530, 126797150,  76371883, 134123942, 110212529,\n",
       "       108133540,  63525013,  91029006, 115397680, 122845355,  49874780,\n",
       "       138749234,  68553398,  90114483, 130334199, 131986111,  75291684,\n",
       "        40492358, 114143227, 141129471,  46397393,  77491016,    482198,\n",
       "       137369982,  87154949, 132293472, 143753355, 144817761, 124837135,\n",
       "        46586567,  90427593, 103467994, 144712082,  75209638, 130369988,\n",
       "       139531061, 124035266,  41950206,  28744221,  69156599, 141423357,\n",
       "        34422190,  23825570, 102476130,  67918262, 135559263, 137658495,\n",
       "       137921648,   7092557,  58722741,   2475869, 133941950,  88792922,\n",
       "        39897292,  82030165, 130895522, 116923559,  74516255,  69593596,\n",
       "        96202237,  12776568, 134083720,  70650998,  54197540, 139807209,\n",
       "       114175196, 127391586,  78709637, 122227510, 130331377,  56864853,\n",
       "       140958054, 143367322, 132003543,  44045403, 144794804,  80628288,\n",
       "        56662225,  96510442,  93217560, 109043561, 111896883, 137039711,\n",
       "         9816896,  52668765, 124764970,  61922933,  35703428,  68394198,\n",
       "       133378805,  96411541,   8988273,  55210374,  74765332,  65781940,\n",
       "       139667548, 124793864, 104855156,  32218207, 125178698, 136970362,\n",
       "       112779927,  16321577, 114175060, 129923979,  58270253,  37841834,\n",
       "       119301803,  74682106,  50565203,  95311620,  38645209, 132435925,\n",
       "        84996477, 122359952,  81110235,  68999727,  57824714, 136495710,\n",
       "       131524691,   3485093, 143031787,  45364141,  95037050,  79141935,\n",
       "        90190959,  46447735,  83262629,  77021408, 126118103,  94130434,\n",
       "        42642363,  93267384,  97912497,  12625492, 132766601,  75224867,\n",
       "       143289920, 103427531,  35683571,  91687865, 143429455, 108782310,\n",
       "       127103613, 144497304, 104461407, 131441921,  70962795,  72705326,\n",
       "        66401051,  90985447,  81467097, 119401404,  90135284,  61509813,\n",
       "        38429317,  76293515,  90160890,  25317030,  85018036, 140000033,\n",
       "        64360491,  35146345,  28112154,  74975681,  97323656, 107594877,\n",
       "        91127894, 131620377,  43391740, 142965286,  13607494, 126564865,\n",
       "       126102538, 113203369,  94058423,  98758708, 127100028,   4694842,\n",
       "        66434325,  62529469,  25346564,  53654695, 134070039, 118208082,\n",
       "        88866153, 137542106,  70461356,  55179784,  50467050,  94747729,\n",
       "       126475552, 121927166,  18645650, 142688664,  73540781,   4564864,\n",
       "       107276053,  91538091, 121326036, 127647557,  38291817, 121326208,\n",
       "       112877623, 126606988,  97304366,  60647806,  86962780, 131391959,\n",
       "        34352623,  46436300, 139391691,  63385786, 103147580, 106493649,\n",
       "       134218440, 139347011,  98093258,  38524975, 141706040,  46447363,\n",
       "       127946315, 124778687,  90098332, 125754008,  70964199, 124139349,\n",
       "       105577516, 136479269, 126467938,  10149577,  64097639, 131169155,\n",
       "        26699946, 145102584, 106845370, 110353166,  73784861,  85370158,\n",
       "        75094809,  11975868, 122698257,  14118015,  93911517, 124774802,\n",
       "       124066664,  64391289,  60804291, 119223452,  71061821, 132067683,\n",
       "        67286290,   3057462, 142637793, 129513556, 135049135, 130344866,\n",
       "        65864699,  54047516,   1682847, 109650231,  69081477,   4279342,\n",
       "        70000598,  63919025, 121758201,  18564727, 118198788, 125338224,\n",
       "       139660109, 145074086,  73479902, 133212209, 139292469,  29743947,\n",
       "        94436457,  77815724,  84101665, 121907050,   8968659, 132242662,\n",
       "       138248494,  59023219, 125111536,  73943681,  96696319,  14638033,\n",
       "        60307143, 131466556, 119962807,  84556787,  75718365, 109331416,\n",
       "        50920454, 116869902, 139625355,  17745104,  70091528, 141407002,\n",
       "        78339835,   4548460,  12657058, 143875450, 128212905, 123070288,\n",
       "        47350458,  84455619,  44845802,  84476341, 137322291, 115718123,\n",
       "         5620186,  77337680,  98441217,   3701879,  61369166,  10775105,\n",
       "        70944742,  57326917,  98207319, 144110938,  83889556,  70811286,\n",
       "       111730660,  92350954,  88887467, 120186820,  59581973,  95756740,\n",
       "        65434500, 141030059, 142998904,  31988940,  74604136, 134263675,\n",
       "         4915180,  61502799,  97537454,  71756031,  81513403,  76498775,\n",
       "       125495384,  94293814, 130929563,  79044039, 140497949, 125693256,\n",
       "        56079482,  75103252,  50465393,  84664341, 107058263,  37751532,\n",
       "        55928591,   1437658, 124457391,  85641729, 139621248, 142934714,\n",
       "       142990784, 130820205, 103638445, 133449364,  17332882,   5782704,\n",
       "        91453270,  87165108, 117807046,  97344567, 110662311, 129766898,\n",
       "       125034601, 138304752,  26989794, 141804011,  96628935,  77298827,\n",
       "        52709212,  75182422,  95330554, 125730882,  94293008,  38655125,\n",
       "       119136559,  45794303, 144138560,  61331292,  66502360, 140879695,\n",
       "        26749474,  60556832,  87904317,  69742452, 127090975,  83313940,\n",
       "       137212507, 136800122,  90299072,   8607822, 129997570, 104664297,\n",
       "        55455330,  93708555,  88989629,  99707616,  96342937, 121337630,\n",
       "        40999819,  53795273, 133131739, 125855577,   8659312,  10754853,\n",
       "       120158038,  85291159,  38647539,   4526730, 144118144,  75941752,\n",
       "       142877040,  12706051,  65725904, 106936032,  56482837, 137049127,\n",
       "         4544953,  60285319,  46612958,   2645279,  76193637, 125281686,\n",
       "       109233752,    785827,  17793409,  93994154,  86246563,   7057063,\n",
       "        48765830, 133505298, 132623042,  29713905,  84044804, 137147859,\n",
       "       143917509,  70291935,  83826256,   9047763, 143665680, 144201322,\n",
       "        57164896, 137978617,  47018331, 121366722, 106806597, 119993069,\n",
       "       112029060, 125704018, 134316802, 132401669,  77961221,  12295155,\n",
       "        75368178, 120384326,  97367806, 135793422, 131405802,  59945430,\n",
       "         9914858, 112159196,   7698843,  50580811, 139003798,  13737728,\n",
       "       138089027,  68414600, 110343004,   1826732, 118328197, 121259121,\n",
       "       101961161,    736949,  97356377, 112840564,  71855927,  27721310,\n",
       "       109727336,  96825667, 111409777, 105637642,  15840838,  63888868,\n",
       "        33131359,  75678885, 108107905, 127319246, 143625865, 126113926,\n",
       "       119261152,  97268541,  66463794, 104472570,  44995922, 123994978,\n",
       "        70742939,  52506425, 140538544, 124876399,   9694744,  77506868,\n",
       "        50606782, 138765321,  63459129, 119398720, 127489117,  48001155,\n",
       "        67358976, 114218348, 125018087, 110321902, 130946575,   1282553,\n",
       "        84625764, 109780689,  95149159,  60356694,  40510267,  77416427,\n",
       "        88880516,  11726293,  43235780,  83757649, 142504686,  69646648,\n",
       "       127583119,   3525351, 118224064, 138931692, 144974515,  16912784,\n",
       "        22151602, 113045183, 111558517, 143189082, 120659977,  12499335,\n",
       "       138203580, 109741122, 126833847,  70571444,  95203319,  96493730,\n",
       "       126286137, 125962449,  73312777, 142014029,  96356064, 135374430,\n",
       "       127274866,  98044750, 139505618,  92729477,  59382203, 136911748,\n",
       "       109882084,  91230203, 141057367, 141836957,  65027508,  60890496,\n",
       "       128733287, 132458431,  38637805,  78558450, 142853610, 100005147,\n",
       "       108124357, 113822365, 136899808,  66440322, 142911819,    405012,\n",
       "       141752541,  94191553, 130195255,   1446979, 142536497,  78800043,\n",
       "       130756073,  73724793, 110261189,  78138291, 140250578,  76558623,\n",
       "        69762726, 136034396,  96044367,  16231199,  76498600,  95312173,\n",
       "       136149839,  66420385, 144597540, 126419934, 103408104,  43499873,\n",
       "       143892648, 128121049,  51126322, 107559420,  98795657, 107357067,\n",
       "        12515907,  23965663,  62337205, 129870781, 145090075,  30125030,\n",
       "       119404461, 119796394, 102216584, 112565361, 126757972,  71472622,\n",
       "         3700899,  92491854,  70886304,  37021348, 129635030,  34502262,\n",
       "       138585728,  98438505,  37730723,  68884530, 142474254,  65975274,\n",
       "        52057332, 142092780, 141280501, 142892764,  90215075, 120623258,\n",
       "        69085139, 116244189,  65128137,  59462084, 110311657,  91984876,\n",
       "       122285995, 139774280, 134932519, 102435586,  15439813, 117841293,\n",
       "       105773455, 107092597, 134984803,  17745825,  75324463, 129394580,\n",
       "        99927033,  88014924, 111066384, 122700272, 133212045,  95222618,\n",
       "       141068415, 129523478,  76411138, 136429088, 110282781,  88133019,\n",
       "        78901356,  77091866, 125177151, 142890805,  33230347, 123604983,\n",
       "       117218856, 139391814,  62237668, 134296571,  97559272,  63527270,\n",
       "        74532268, 138282206, 107853258,  26200126, 138054070, 140832746,\n",
       "        26820123,  72712649,  39571843, 141808169,  46746882, 130164560,\n",
       "       107336706, 131252297,  76985717,  54423766,  55981721, 120047808,\n",
       "       121320830, 143887377,  61354166, 123903601, 105873152,  44106486,\n",
       "        96379781,  61311868, 127213522, 136607131,  60904733,  71755374,\n",
       "        58682603, 112971525,  85732516, 127331446, 139794277,  16221751,\n",
       "       132102792, 132473657, 113180574, 102463427, 112838177, 141234913,\n",
       "       112046210,  88704137,  90481398, 125170201,   4298738,  39480666,\n",
       "       123063931,  11698480,  94742537, 126624031,  43935902,  21591313,\n",
       "        43287211,  14678810,  46376412,  71754757,   4307450, 125472952,\n",
       "        29733971,  16542794, 124998744, 104541361,   7081552, 111083362,\n",
       "       121396944, 122659802, 130827714,  95218480, 140832910, 125368142,\n",
       "       144662603,   6298875, 138260156, 133942061, 119882670,   4287915,\n",
       "        54534988, 137384955,  84615347,  88043946,  14520987,  32358988,\n",
       "       127011767,  91363523, 121245177, 141285265,  39827879, 119692786,\n",
       "        19897182,  27581020, 114514072,  38559964,  40117778,   1188969,\n",
       "        57195994,  91593619, 110792246, 139082105, 120652956, 143853153,\n",
       "       136418634], dtype=int64)"
      ]
     },
     "execution_count": 34,
     "metadata": {},
     "output_type": "execute_result"
    }
   ],
   "source": [
    "a_eliminar = num.loc[num.ingresos > 300000].index.values\n",
    "a_eliminar"
   ]
  },
  {
   "cell_type": "markdown",
   "id": "b995bf77",
   "metadata": {},
   "source": [
    "###### Aplicar"
   ]
  },
  {
   "cell_type": "code",
   "execution_count": 35,
   "id": "413fa5ea",
   "metadata": {},
   "outputs": [],
   "source": [
    "cat = cat[~cat.index.isin(a_eliminar)]\n",
    "num = num[~num.index.isin(a_eliminar)]"
   ]
  },
  {
   "cell_type": "markdown",
   "id": "0f6b1e4a",
   "metadata": {},
   "source": [
    "## GUARDAR DATASETS TRAS CALIDAD DE DATOS"
   ]
  },
  {
   "cell_type": "markdown",
   "id": "1e211b09",
   "metadata": {},
   "source": [
    "Guarda los avances en df, cat y num con un sufijo para poder guardar o recuperar avances del proyecto.\n",
    "\n",
    "En formato pickle para no perder las modificaciones de metadatos."
   ]
  },
  {
   "cell_type": "markdown",
   "id": "abb12eef",
   "metadata": {},
   "source": [
    "### Definir los nombres de los archivos"
   ]
  },
  {
   "cell_type": "code",
   "execution_count": 36,
   "id": "f83c6f26",
   "metadata": {},
   "outputs": [],
   "source": [
    "ruta_trabajo = ruta_proyecto + '/02_Datos/03_Trabajo/' + 'trabajo_resultado_calidad.pickle'\n",
    "ruta_cat = ruta_proyecto + '/02_Datos/03_Trabajo/' + 'cat_resultado_calidad.pickle'\n",
    "ruta_num = ruta_proyecto + '/02_Datos/03_Trabajo/' + 'num_resultado_calidad.pickle'"
   ]
  },
  {
   "cell_type": "markdown",
   "id": "1699f284",
   "metadata": {},
   "source": [
    "### Guardar los archivos"
   ]
  },
  {
   "cell_type": "code",
   "execution_count": 37,
   "id": "6731887a",
   "metadata": {},
   "outputs": [],
   "source": [
    "df.to_pickle(ruta_trabajo)\n",
    "cat.to_pickle(ruta_cat)\n",
    "num.to_pickle(ruta_num)"
   ]
  }
 ],
 "metadata": {
  "kernelspec": {
   "display_name": "Python 3 (ipykernel)",
   "language": "python",
   "name": "python3"
  },
  "language_info": {
   "codemirror_mode": {
    "name": "ipython",
    "version": 3
   },
   "file_extension": ".py",
   "mimetype": "text/x-python",
   "name": "python",
   "nbconvert_exporter": "python",
   "pygments_lexer": "ipython3",
   "version": "3.11.7"
  },
  "toc": {
   "base_numbering": 1,
   "nav_menu": {},
   "number_sections": true,
   "sideBar": true,
   "skip_h1_title": false,
   "title_cell": "Table of Contents",
   "title_sidebar": "Contents",
   "toc_cell": false,
   "toc_position": {
    "height": "calc(100% - 180px)",
    "left": "10px",
    "top": "150px",
    "width": "298.833px"
   },
   "toc_section_display": true,
   "toc_window_display": true
  },
  "varInspector": {
   "cols": {
    "lenName": 16,
    "lenType": 16,
    "lenVar": 40
   },
   "kernels_config": {
    "python": {
     "delete_cmd_postfix": "",
     "delete_cmd_prefix": "del ",
     "library": "var_list.py",
     "varRefreshCmd": "print(var_dic_list())"
    },
    "r": {
     "delete_cmd_postfix": ") ",
     "delete_cmd_prefix": "rm(",
     "library": "var_list.r",
     "varRefreshCmd": "cat(var_dic_list()) "
    }
   },
   "position": {
    "height": "546.85px",
    "left": "680.75px",
    "right": "20px",
    "top": "118px",
    "width": "350px"
   },
   "types_to_exclude": [
    "module",
    "function",
    "builtin_function_or_method",
    "instance",
    "_Feature"
   ],
   "window_display": false
  }
 },
 "nbformat": 4,
 "nbformat_minor": 5
}
